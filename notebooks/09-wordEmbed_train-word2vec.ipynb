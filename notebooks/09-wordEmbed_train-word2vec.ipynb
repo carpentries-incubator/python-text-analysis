{
 "cells": [
  {
   "cell_type": "markdown",
   "id": "a33b3b1c",
   "metadata": {},
   "source": [
    "## Colab Setup\n",
    "\n",
    "Run this code to enable helper functions and read data back in."
   ]
  },
  {
   "cell_type": "code",
   "execution_count": null,
   "id": "9fa976da",
   "metadata": {},
   "outputs": [],
   "source": [
    "# Run this cell to mount your Google Drive.\n",
    "from google.colab import drive\n",
    "drive.mount('/content/drive')\n",
    "\n",
    "# Show existing colab notebooks and helpers.py file\n",
    "from os import listdir\n",
    "wksp_dir = '/content/drive/My Drive/Colab Notebooks/text-analysis/code'\n",
    "print(listdir(wksp_dir))\n",
    "\n",
    "# Add folder to colab's path so we can import the helper functions\n",
    "import sys\n",
    "sys.path.insert(0, wksp_dir)"
   ]
  },
  {
   "cell_type": "markdown",
   "id": "1490d8b1",
   "metadata": {},
   "source": [
    "~~~\n",
    "Mounted at /content/drive\n",
    "['analysis.py',\n",
    " 'pyldavis.py',\n",
    " '.gitkeep',\n",
    " 'helpers.py',\n",
    " 'preprocessing.py',\n",
    " 'attentionviz.py',\n",
    " 'mit_restaurants.py',\n",
    " 'plotfrequency.py',\n",
    " '__pycache__']\n",
    "~~~\n",
    "{: .output}"
   ]
  },
  {
   "cell_type": "code",
   "execution_count": null,
   "id": "22b19d56",
   "metadata": {},
   "outputs": [],
   "source": [
    "# pip install necessary to access parse module (called from helpers.py)\n",
    "!pip install parse"
   ]
  },
  {
   "cell_type": "markdown",
   "id": "66bb2179",
   "metadata": {},
   "source": [
    "### Load in the data"
   ]
  },
  {
   "cell_type": "code",
   "execution_count": null,
   "id": "127d0f2a",
   "metadata": {},
   "outputs": [],
   "source": [
    "# Read the data back in.\n",
    "from pandas import read_csv\n",
    "data = read_csv(\"/content/drive/My Drive/Colab Notebooks/text-analysis/data/data.csv\")"
   ]
  },
  {
   "cell_type": "markdown",
   "id": "68569243",
   "metadata": {},
   "source": [
    "Create list of files we'll use for our analysis. We'll start by fitting a word2vec model to just one of the books in our list — Moby Dick."
   ]
  },
  {
   "cell_type": "code",
   "execution_count": null,
   "id": "4f805a44",
   "metadata": {},
   "outputs": [],
   "source": [
    "single_file = data.loc[data['Title'] == 'moby_dick','File'].item()\n",
    "single_file"
   ]
  },
  {
   "cell_type": "markdown",
   "id": "cf155719",
   "metadata": {},
   "source": [
    "~~~\n",
    "'/content/drive/My Drive/Colab Notebooks/text-analysis/data/melville-moby_dick.txt'\n",
    "~~~\n",
    "{: .output}\n",
    "\n",
    "Let's preview the file contents to make sure our code and directory setup is working correctly."
   ]
  },
  {
   "cell_type": "code",
   "execution_count": null,
   "id": "16a1f5f0",
   "metadata": {},
   "outputs": [],
   "source": [
    "# open and read file\n",
    "f = open(single_file,'r')\n",
    "file_contents = f.read()\n",
    "f.close()\n",
    "\n",
    "# preview file contents\n",
    "preview_len = 500\n",
    "print(file_contents[0:preview_len])"
   ]
  },
  {
   "cell_type": "markdown",
   "id": "9f2c88a1",
   "metadata": {},
   "source": [
    "~~~\n",
    "[Moby Dick by Herman Melville 1851]\n",
    "\n",
    "\n",
    "ETYMOLOGY.\n",
    "\n",
    "(Supplied by a Late Consumptive Usher to a Grammar School)\n",
    "\n",
    "The pale Usher--threadbare in coat, heart, body, and brain; I see him\n",
    "now.  He was ever dusting his old lexicons and grammars, with a queer\n",
    "handkerchief, mockingly embellished with all the gay flags of all the\n",
    "known nations of the world.  He loved to dust his old grammars; it\n",
    "somehow mildly reminded him of his mortality.\n",
    "\n",
    "\"While you take in hand to school others, and to teach them by wha\n",
    "~~~\n",
    "{: .output}"
   ]
  },
  {
   "cell_type": "code",
   "execution_count": null,
   "id": "883064ac",
   "metadata": {},
   "outputs": [],
   "source": [
    "file_contents[0:preview_len] # Note that \\n are still present in actual string (print() processes these as new lines)"
   ]
  },
  {
   "cell_type": "markdown",
   "id": "e37955c3",
   "metadata": {},
   "source": [
    "~~~\n",
    "'[Moby Dick by Herman Melville 1851]\\n\\n\\nETYMOLOGY.\\n\\n(Supplied by a Late Consumptive Usher to a Grammar School)\\n\\nThe pale Usher--threadbare in coat, heart, body, and brain; I see him\\nnow.  He was ever dusting his old lexicons and grammars, with a queer\\nhandkerchief, mockingly embellished with all the gay flags of all the\\nknown nations of the world.  He loved to dust his old grammars; it\\nsomehow mildly reminded him of his mortality.\\n\\n\"While you take in hand to school others, and to teach them by wha'\n",
    "~~~\n",
    "{: .output}\n",
    "\n",
    "## Preprocessing steps\n",
    "1. Split text into sentences\n",
    "2. Tokenize the text\n",
    "3. Lemmatize and lowercase all tokens\n",
    "4. Remove stop words\n",
    "\n",
    "### 1. Convert text to list of sentences\n",
    "Remember that we are using the sequence of words in a sentence to learn meaningful word embeddings. The last word of one sentence does not always relate to the first word of the next sentence. For this reason, we will split the text into individual sentences before going further.\n",
    "\n",
    "#### Punkt Sentence Tokenizer\n",
    "NLTK's sentence tokenizer ('punkt') works well in most cases, but it may not correctly detect sentences when there is a complex paragraph that contains many punctuation marks, exclamation marks, abbreviations, or repetitive symbols. It is not possible to define a standard way to overcome these issues. If you want to ensure every \"sentence\" you use to train the Word2Vec is truly a sentence, you would need to write some additional (and highly data-dependent) code that uses regex and string manipulation to overcome rare errors.\n",
    "\n",
    "For our purposes, we're willing to overlook a few sentence tokenization errors. If this work were being published, it would be worthwhile to double-check the work of punkt."
   ]
  },
  {
   "cell_type": "code",
   "execution_count": null,
   "id": "dc562c95",
   "metadata": {},
   "outputs": [],
   "source": [
    "import nltk\n",
    "nltk.download('punkt') # dependency of sent_tokenize function\n",
    "sentences = nltk.sent_tokenize(file_contents)"
   ]
  },
  {
   "cell_type": "markdown",
   "id": "22e74c90",
   "metadata": {},
   "source": [
    "~~~\n",
    "[nltk_data] Downloading package punkt to /root/nltk_data...\n",
    "[nltk_data]   Package punkt is already up-to-date!\n",
    "~~~\n",
    "{: .output}"
   ]
  },
  {
   "cell_type": "code",
   "execution_count": null,
   "id": "5f2dbfc3",
   "metadata": {},
   "outputs": [],
   "source": [
    "sentences[300:305]"
   ]
  },
  {
   "cell_type": "markdown",
   "id": "46ce3eb0",
   "metadata": {},
   "source": [
    "~~~\n",
    "['How then is this?',\n",
    " 'Are the green fields gone?',\n",
    " 'What do they\\nhere?',\n",
    " 'But look!',\n",
    " 'here come more crowds, pacing straight for the water, and\\nseemingly bound for a dive.']\n",
    "~~~\n",
    "{: .output}\n",
    "\n",
    "\n",
    "### 2-4: Tokenize, lemmatize, and remove stop words\n",
    " Pull up preprocess text helper function and unpack the code...\n",
    "* We'll run this function on each sentence\n",
    "* Lemmatization, tokenization, lowercase and stopwords are all review\n",
    "* For the lemmatization step, we'll use NLTK's lemmatizer which runs very quickly\n",
    "* We'll also use NLTK's stop word lists and its tokenization function. Recall that stop words are usually thought of as the most common words in a language. By removing them, we can let the Word2Vec model focus on sequences of meaningful words, only."
   ]
  },
  {
   "cell_type": "code",
   "execution_count": null,
   "id": "0c10edbe",
   "metadata": {},
   "outputs": [],
   "source": [
    "from helpers import preprocess_text"
   ]
  },
  {
   "cell_type": "code",
   "execution_count": null,
   "id": "516d114d",
   "metadata": {},
   "outputs": [],
   "source": [
    "# test function\n",
    "string = 'It is not down on any map; true places never are.'\n",
    "tokens = preprocess_text(string, \n",
    "                         remove_stopwords=True,\n",
    "                         verbose=True)\n",
    "print('Result', tokens)"
   ]
  },
  {
   "cell_type": "markdown",
   "id": "045eccda",
   "metadata": {},
   "source": [
    "~~~\n",
    "Tokens ['It', 'is', 'not', 'down', 'on', 'any', 'map', 'true', 'places', 'never', 'are']\n",
    "Lowercase ['it', 'is', 'not', 'down', 'on', 'any', 'map', 'true', 'places', 'never', 'are']\n",
    "Lemmas ['it', 'is', 'not', 'down', 'on', 'any', 'map', 'true', 'place', 'never', 'are']\n",
    "StopRemoved ['map', 'true', 'place', 'never']\n",
    "Result ['map', 'true', 'place', 'never']\n",
    "~~~\n",
    "{: .output}"
   ]
  },
  {
   "cell_type": "code",
   "execution_count": null,
   "id": "dbdd45d1",
   "metadata": {},
   "outputs": [],
   "source": [
    "# convert list of sentences to pandas series so we can use the apply functionality\n",
    "import pandas as pd\n",
    "sentences_series = pd.Series(sentences)"
   ]
  },
  {
   "cell_type": "code",
   "execution_count": null,
   "id": "3db84d1d",
   "metadata": {},
   "outputs": [],
   "source": [
    "tokens_cleaned = sentences_series.apply(preprocess_text, \n",
    "                                        remove_stopwords=True, \n",
    "                                        verbose=False)"
   ]
  },
  {
   "cell_type": "code",
   "execution_count": null,
   "id": "aca4a0d5",
   "metadata": {},
   "outputs": [],
   "source": [
    "# view sentences before clearning\n",
    "sentences[300:305]"
   ]
  },
  {
   "cell_type": "markdown",
   "id": "e21bdc96",
   "metadata": {},
   "source": [
    "~~~\n",
    "['How then is this?',\n",
    " 'Are the green fields gone?',\n",
    " 'What do they\\nhere?',\n",
    " 'But look!',\n",
    " 'here come more crowds, pacing straight for the water, and\\nseemingly bound for a dive.']\n",
    "~~~\n",
    "{: .output}"
   ]
  },
  {
   "cell_type": "code",
   "execution_count": null,
   "id": "aaab6e0e",
   "metadata": {},
   "outputs": [],
   "source": [
    "# view sentences after cleaning\n",
    "tokens_cleaned[300:305]"
   ]
  },
  {
   "cell_type": "markdown",
   "id": "6ff18dd2",
   "metadata": {},
   "source": [
    "~~~\n",
    "    300                                                   []\n",
    "    301                                 [green, field, gone]\n",
    "    302                                                   []\n",
    "    303                                               [look]\n",
    "    304    [come, crowd, pacing, straight, water, seeming...\n",
    "    dtype: object\n",
    "~~~\n",
    "{: .output}"
   ]
  },
  {
   "cell_type": "code",
   "execution_count": null,
   "id": "305c41b2",
   "metadata": {},
   "outputs": [],
   "source": [
    "tokens_cleaned.shape # 9852 sentences"
   ]
  },
  {
   "cell_type": "markdown",
   "id": "269db735",
   "metadata": {},
   "source": [
    "~~~\n",
    "(9852,)\n",
    "~~~\n",
    "{: .output}"
   ]
  },
  {
   "cell_type": "code",
   "execution_count": null,
   "id": "8220ca0e",
   "metadata": {},
   "outputs": [],
   "source": [
    "# remove empty sentences and 1-word sentences (all stop words)\n",
    "tokens_cleaned = tokens_cleaned[tokens_cleaned.apply(len) > 1]\n",
    "tokens_cleaned.shape"
   ]
  },
  {
   "cell_type": "markdown",
   "id": "31a4d060",
   "metadata": {},
   "source": [
    "~~~\n",
    "(9007,)\n",
    "~~~\n",
    "{: .output}\n",
    "\n",
    "### Train Word2Vec model using tokenized text\n",
    "We can now use this data to train a word2vec model. We'll start by importing the Word2Vec module from gensim. We'll then hand the Word2Vec function our list of tokenized sentences and set sg=0 (\"skip-gram\") to use the continuous bag of words (CBOW) training method. \n",
    "\n",
    "**Set seed and workers for a fully deterministic run**: Next we'll set some parameters for reproducibility. We'll set the seed so that our vectors get randomly initialized the same way each time this code is run. For a fully deterministically-reproducible run, we'll also limit the model to a single worker thread (workers=1), to eliminate ordering jitter from OS thread scheduling — noted in [gensim's documentation](https://radimrehurek.com/gensim/models/word2vec.html)"
   ]
  },
  {
   "cell_type": "code",
   "execution_count": null,
   "id": "1d028f7b",
   "metadata": {},
   "outputs": [],
   "source": [
    "# import gensim's Word2Vec module\n",
    "from gensim.models import Word2Vec\n",
    "\n",
    "# train the word2vec model with our cleaned data\n",
    "model = Word2Vec(sentences=tokens_cleaned, seed=0, workers=1, sg=0)"
   ]
  },
  {
   "cell_type": "markdown",
   "id": "e298b31a",
   "metadata": {},
   "source": [
    "Gensim's implementation is based on the original [Tomas Mikolov's original model of word2vec](\"https://arxiv.org/pdf/1301.3781.pdf\"), which downsamples all frequent words automatically based on frequency. The downsampling saves time when training the model.\n",
    "\n",
    "### Next steps: word embedding use-cases\n",
    "We now have a vector representation for all the (lemmatized and non-stop words) words referenced throughout Moby Dick. Let's see how we can use these vectors to gain insights from our text data.\n",
    "\n",
    "\n",
    "### Most similar words\n",
    "Just like with the pretrained word2vec models, we can use the most_similar function to find words that meaningfully relate to a queried word."
   ]
  },
  {
   "cell_type": "code",
   "execution_count": null,
   "id": "4f439bd9",
   "metadata": {},
   "outputs": [],
   "source": [
    "# default\n",
    "model.wv.most_similar(positive=['whale'], topn=10)"
   ]
  },
  {
   "cell_type": "markdown",
   "id": "4e45e7d3",
   "metadata": {},
   "source": [
    "~~~\n",
    "[('great', 0.9986481070518494),\n",
    " ('white', 0.9984517097473145),\n",
    " ('fishery', 0.9984385371208191),\n",
    " ('sperm', 0.9984176158905029),\n",
    " ('among', 0.9983417987823486),\n",
    " ('right', 0.9983320832252502),\n",
    " ('three', 0.9983301758766174),\n",
    " ('day', 0.9983181357383728),\n",
    " ('length', 0.9983041882514954),\n",
    " ('seen', 0.998255729675293)]\n",
    "~~~\n",
    "{: .output}\n",
    "\n",
    "### Vocabulary limits\n",
    "Note that Word2Vec can only produce vector representations for words encountered in the data used to train the model."
   ]
  },
  {
   "cell_type": "code",
   "execution_count": null,
   "id": "8fcc0932",
   "metadata": {},
   "outputs": [],
   "source": [
    "model.wv.most_similar(positive=['orca'],topn=30)"
   ]
  },
  {
   "cell_type": "markdown",
   "id": "0d775d0d",
   "metadata": {},
   "source": [
    "KeyError: \"Key 'orca' not present in vocabulary\"\n",
    "\n",
    "### fastText solves OOV issue\n",
    "If you need to obtain word vectors for out of vocabulary (OOV) words, you can use the fastText word embedding model, instead (also provided from Gensim). \n",
    "The fastText model can obtain vectors even for out-of-vocabulary (OOV) words, by summing up vectors for its component char-ngrams, provided at least one of the char-ngrams was present in the training data.\n",
    "\n",
    "### Word2Vec for Named Entity Recognition\n",
    "What can we do with this most similar functionality? One way we can use it is to construct a list of similar words to represent some sort of category. For example, maybe we want to know what other sea creatures are referenced throughout Moby Dick. We can use gensim's most_smilar function to begin constructing a list of words that, on average, represent a \"sea creature\" category.  \n",
    "\n",
    "We'll use the following procedure:\n",
    "1. Initialize a small list of words that represent the category, sea creatures.\n",
    "2. Calculate the average vector representation of this list of words\n",
    "3. Use this average vector to find the top N most similar vectors (words)\n",
    "4. Review similar words and update the sea creatures list\n",
    "5. Repeat steps 1-4 until no additional sea creatures can be found"
   ]
  },
  {
   "cell_type": "code",
   "execution_count": null,
   "id": "8bf1a8c7",
   "metadata": {},
   "outputs": [],
   "source": [
    "# start with a small list of words that represent sea creatures \n",
    "sea_creatures = ['whale','fish','creature','animal']\n",
    "\n",
    "# The below code will calculate an average vector of the words in our list, \n",
    "# and find the vectors/words that are most similar to this average vector\n",
    "model.wv.most_similar(positive=sea_creatures, topn=30)"
   ]
  },
  {
   "cell_type": "markdown",
   "id": "34738d81",
   "metadata": {},
   "source": [
    "~~~\n",
    "[('great', 0.9997826814651489),\n",
    " ('part', 0.9997532963752747),\n",
    " ('though', 0.9997507333755493),\n",
    " ('full', 0.999735951423645),\n",
    " ('small', 0.9997267127037048),\n",
    " ('among', 0.9997209906578064),\n",
    " ('case', 0.9997204542160034),\n",
    " ('like', 0.9997190833091736),\n",
    " ('many', 0.9997131824493408),\n",
    " ('fishery', 0.9997081756591797),\n",
    " ('present', 0.9997068643569946),\n",
    " ('body', 0.9997056722640991),\n",
    " ('almost', 0.9997050166130066),\n",
    " ('found', 0.9997038245201111),\n",
    " ('whole', 0.9997023940086365),\n",
    " ('water', 0.9996949434280396),\n",
    " ('even', 0.9996913075447083),\n",
    " ('time', 0.9996898174285889),\n",
    " ('two', 0.9996897578239441),\n",
    " ('air', 0.9996871948242188),\n",
    " ('length', 0.9996850490570068),\n",
    " ('vast', 0.9996834397315979),\n",
    " ('line', 0.9996828436851501),\n",
    " ('made', 0.9996813535690308),\n",
    " ('upon', 0.9996812343597412),\n",
    " ('large', 0.9996775984764099),\n",
    " ('known', 0.9996767640113831),\n",
    " ('harpooneer', 0.9996761679649353),\n",
    " ('sea', 0.9996750354766846),\n",
    " ('shark', 0.9996744990348816)]\n",
    "~~~\n",
    "{: .output}"
   ]
  },
  {
   "cell_type": "code",
   "execution_count": null,
   "id": "9b2926f0",
   "metadata": {},
   "outputs": [],
   "source": [
    "# we can add shark to our list\n",
    "model.wv.most_similar(positive=['whale','fish','creature','animal','shark'],topn=30)"
   ]
  },
  {
   "cell_type": "markdown",
   "id": "176392a9",
   "metadata": {},
   "source": [
    "~~~\n",
    "[('great', 0.9997999668121338),\n",
    " ('though', 0.9997922778129578),\n",
    " ('part', 0.999788761138916),\n",
    " ('full', 0.999781608581543),\n",
    " ('small', 0.9997766017913818),\n",
    " ('like', 0.9997683763504028),\n",
    " ('among', 0.9997652769088745),\n",
    " ('many', 0.9997631311416626),\n",
    " ('case', 0.9997614622116089),\n",
    " ('even', 0.9997515678405762),\n",
    " ('body', 0.9997514486312866),\n",
    " ('almost', 0.9997509717941284),\n",
    " ('present', 0.9997479319572449),\n",
    " ('found', 0.999747633934021),\n",
    " ('water', 0.9997465014457703),\n",
    " ('made', 0.9997431635856628),\n",
    " ('air', 0.9997406601905823),\n",
    " ('whole', 0.9997400641441345),\n",
    " ('fishery', 0.9997299909591675),\n",
    " ('harpooneer', 0.9997295141220093),\n",
    " ('time', 0.9997290372848511),\n",
    " ('two', 0.9997289776802063),\n",
    " ('sea', 0.9997265934944153),\n",
    " ('strange', 0.9997244477272034),\n",
    " ('large', 0.999722421169281),\n",
    " ('place', 0.9997209906578064),\n",
    " ('dead', 0.9997198581695557),\n",
    " ('leviathan', 0.9997192025184631),\n",
    " ('sometimes', 0.9997178316116333),\n",
    " ('high', 0.9997177720069885)]\n",
    "~~~\n",
    "{: .output}"
   ]
  },
  {
   "cell_type": "code",
   "execution_count": null,
   "id": "a4e436d1",
   "metadata": {},
   "outputs": [],
   "source": [
    "# add leviathan (sea serpent) to our list\n",
    "model.wv.most_similar(positive=['whale','fish','creature','animal','shark','leviathan'],topn=30)"
   ]
  },
  {
   "cell_type": "markdown",
   "id": "4e068f6c",
   "metadata": {},
   "source": [
    "~~~\n",
    "[('though', 0.9998274445533752),\n",
    " ('part', 0.9998168349266052),\n",
    " ('full', 0.9998133182525635),\n",
    " ('small', 0.9998107552528381),\n",
    " ('great', 0.9998067021369934),\n",
    " ('like', 0.9998064041137695),\n",
    " ('even', 0.9997999668121338),\n",
    " ('many', 0.9997966885566711),\n",
    " ('body', 0.9997950196266174),\n",
    " ('among', 0.999794602394104),\n",
    " ('found', 0.9997929334640503),\n",
    " ('case', 0.9997885823249817),\n",
    " ('almost', 0.9997871518135071),\n",
    " ('made', 0.9997868537902832),\n",
    " ('air', 0.999786376953125),\n",
    " ('water', 0.9997802972793579),\n",
    " ('whole', 0.9997780919075012),\n",
    " ('present', 0.9997757077217102),\n",
    " ('harpooneer', 0.999768853187561),\n",
    " ('place', 0.9997684955596924),\n",
    " ('much', 0.9997658729553223),\n",
    " ('time', 0.999765157699585),\n",
    " ('sea', 0.999765157699585),\n",
    " ('dead', 0.999764621257782),\n",
    " ('strange', 0.9997624158859253),\n",
    " ('high', 0.9997615218162537),\n",
    " ('two', 0.999760091304779),\n",
    " ('sometimes', 0.9997592568397522),\n",
    " ('half', 0.9997562170028687),\n",
    " ('vast', 0.9997541904449463)]\n",
    "~~~\n",
    "{: .output}\n",
    "\n",
    "\n",
    "No additional sea creatures. It appears we have our list of sea creatures recovered using Word2Vec\n",
    "\n",
    "#### Limitations \n",
    "There is at least one sea creature missing from our list — a giant squid. The giant squid is only mentioned a handful of times throughout Moby Dick, and therefore it could be that our word2vec model was not able to train a good representation of the word \"squid\". Neural networks only work well when you have lots of data\n",
    "\n",
    "\n",
    "> ## Exploring the skip-gram algorithm \n",
    ">\n",
    "> The skip-gram algoritmm sometimes performs better in terms of its ability to capture meaning of rarer words encountered in the training data. Train a new Word2Vec model using the skip-gram algorithm, and see if you can repeat the above categorical search task to find the word, \"squid\".\n",
    "> \n",
    "> > ## Solution\n",
    "> > \n",
    "> > ```python\n",
    "> > # import gensim's Word2Vec module\n",
    "> > from gensim.models import Word2Vec\n",
    "> > \n",
    "> > # train the word2vec model with our cleaned data\n",
    "> > model = Word2Vec(sentences=tokens_cleaned, seed=0, workers=1, sg=1)\n",
    "> > model.wv.most_similar(positive=['whale','fish','creature','animal','shark','leviathan'],topn=100) # still no sight of squid \n",
    "> > ```\n",
    "> > \n",
    "> > ~~~\n",
    "> > [('whalemen', 0.9931729435920715),\n",
    "> >  ('specie', 0.9919217824935913),\n",
    "> >  ('bulk', 0.9917919635772705),\n",
    "> >  ('ground', 0.9913252592086792),\n",
    "> >  ('skeleton', 0.9905602931976318),\n",
    "> >  ('among', 0.9898401498794556),\n",
    "> >  ('small', 0.9887762665748596),\n",
    "> >  ('full', 0.9885162115097046),\n",
    "> >  ('captured', 0.9883950352668762),\n",
    "> >  ('found', 0.9883666634559631),\n",
    "> >  ('sometimes', 0.9882548451423645),\n",
    "> >  ('snow', 0.9880553483963013),\n",
    "> >  ('magnitude', 0.9880378842353821),\n",
    "> >  ('various', 0.9878063201904297),\n",
    "> >  ('hump', 0.9876748919487),\n",
    "> >  ('cuvier', 0.9875931739807129),\n",
    "> >  ('fisherman', 0.9874721765518188),\n",
    "> >  ('general', 0.9873012900352478),\n",
    "> >  ('living', 0.9872495532035828),\n",
    "> >  ('wholly', 0.9872384667396545),\n",
    "> >  ('bone', 0.987160861492157),\n",
    "> >  ('mouth', 0.9867696762084961),\n",
    "> >  ('natural', 0.9867129921913147),\n",
    "> >  ('monster', 0.9865870475769043),\n",
    "> >  ('blubber', 0.9865683317184448),\n",
    "> >  ('indeed', 0.9864518046379089),\n",
    "> >  ('teeth', 0.9862186908721924),\n",
    "> >  ('entire', 0.9861844182014465),\n",
    "> >  ('latter', 0.9859246015548706),\n",
    "> >  ('book', 0.9858523607254028)]\n",
    "> > ~~~\n",
    "> > {: .output}\n",
    "> > \n",
    "> > \n",
    "> > **Discuss Exercise Result**: When using Word2Vec to reveal items from a category, you risk missing items that are rarely mentioned. This is true even when we use the Skip-gram training method, which has been found to have better performance on rarer words. For this reason, it's sometimes better to save this task for larger text corpuses. In a later lesson, we will explore how large language models (LLMs) can yield better performance on Named Entity Recognition related tasks.\n",
    "> > \n",
    "> {:.solution}\n",
    "{:.challenge}\n",
    "\n",
    "\n",
    "\n",
    "> ## Entity Recognition Applications\n",
    "> \n",
    "> How else might you exploit this kind of analysis in your research? Share your ideas with the group.\n",
    "> \n",
    "> > ## Solution\n",
    "> > \n",
    "> > **Example**: Train a model on newspaper articles from the 19th century, and collect a list of foods (the topic chosen) referenced throughout the corpus. Do the same for 20th century newspaper articles and compare to see how popular foods have changed over time.\n",
    "> {:.solution}\n",
    "{:.challenge}\n",
    "\n",
    "> ## Comparing Vector Representations Across Authors\n",
    "> \n",
    "> Recall that the Word2Vec model learns to encode a word's meaning/representation based on that word's most common surrounding context words. By training two separate Word2Vec models on, e.g., books collected from two different authors (one model for each author), we can compare how the different authors tend to use words differently. What are some research questions or words that we could investigate with this kind of approach?\n",
    "> \n",
    "> > ## Solution\n",
    "> > \n",
    "> > As one possible approach, we could compare how authors tend to represent different genders. It could be that older (outdated!) books tend to produce word vectors for man and women that are further apart from one another than newer books due to historic gender norms.\n",
    "> > \n",
    "> {:.solution}\n",
    "{:.challenge}\n",
    "\n",
    "### Other word embedding models\n",
    "While Word2Vec is a famous model that is still used throughout many NLP applications today, there are a few other word embedding models that you might also want to consider exploring. GloVe and fastText are among the two most popular choices to date."
   ]
  },
  {
   "cell_type": "code",
   "execution_count": null,
   "id": "bfe24fce",
   "metadata": {},
   "outputs": [],
   "source": [
    "# Preview other word embedding models available\n",
    "print(list(api.info()['models'].keys()))"
   ]
  },
  {
   "cell_type": "markdown",
   "id": "8719068f",
   "metadata": {},
   "source": [
    "~~~\n",
    "['fasttext-wiki-news-subwords-300', 'conceptnet-numberbatch-17-06-300', 'word2vec-ruscorpora-300', 'word2vec-google-news-300', 'glove-wiki-gigaword-50', 'glove-wiki-gigaword-100', 'glove-wiki-gigaword-200', 'glove-wiki-gigaword-300', 'glove-twitter-25', 'glove-twitter-50', 'glove-twitter-100', 'glove-twitter-200', '__testing_word2vec-matrix-synopsis']\n",
    "~~~\n",
    "{: .output}\n",
    "\n",
    "#### Similarities\n",
    "* All three algorithms generate vector representations of words in a high-dimensional space.\n",
    "* They can be used to solve a wide range of natural language processing tasks.\n",
    "* They are all open-source and widely used in the research community.\n",
    "\n",
    "#### Differences\n",
    "* Word2Vec focuses on generating embeddings by predicting the context of a word given its surrounding words in a sentence, while GloVe and fastText generate embeddings by predicting the probability of a word co-occurring with another word in a corpus.\n",
    "* fastText also includes character n-grams, allowing it to generate embeddings for words not seen during training, making it particularly useful for handling out-of-vocabulary words.\n",
    "* In general, fastText is considered to be the fastest to train among the three embedding techniques (GloVe, fastText, and Word2Vec). This is because fastText uses subword information, which reduces the vocabulary size and allows the model to handle out-of-vocabulary words. Additionally, fastText uses a hierarchical softmax for training, which is faster than the traditional softmax used by Word2Vec. Finally, fastText can be trained on multiple threads, further speeding up the training process."
   ]
  }
 ],
 "metadata": {},
 "nbformat": 4,
 "nbformat_minor": 5
}
