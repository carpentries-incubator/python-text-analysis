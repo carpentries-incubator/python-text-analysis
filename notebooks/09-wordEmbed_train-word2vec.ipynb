{
 "cells": [
  {
   "cell_type": "markdown",
   "id": "e72a536e",
   "metadata": {},
   "source": [
    "## Colab Setup\n",
    "\n",
    "Run this code to enable helper functions and read data back in."
   ]
  },
  {
   "cell_type": "code",
   "execution_count": null,
   "id": "06faba05",
   "metadata": {},
   "outputs": [],
   "source": [
    "# Run this cell to mount your Google Drive.\n",
    "from google.colab import drive\n",
    "drive.mount('/content/drive')\n",
    "\n",
    "# Show existing colab notebooks and helpers.py file\n",
    "from os import listdir\n",
    "wksp_dir = '/content/drive/My Drive/Colab Notebooks/text-analysis/code'\n",
    "print(listdir(wksp_dir))\n",
    "\n",
    "# Add folder to colab's path so we can import the helper functions\n",
    "import sys\n",
    "sys.path.insert(0, wksp_dir)"
   ]
  },
  {
   "cell_type": "code",
   "execution_count": null,
   "id": "9ac0abad",
   "metadata": {},
   "outputs": [],
   "source": [
    "# pip install necessary to access parse module (called from helpers.py)\n",
    "!pip install parse"
   ]
  },
  {
   "cell_type": "markdown",
   "id": "807aaa6c",
   "metadata": {},
   "source": [
    "### Load in the data"
   ]
  },
  {
   "cell_type": "code",
   "execution_count": null,
   "id": "4e8f9dba",
   "metadata": {},
   "outputs": [],
   "source": [
    "# Read the data back in.\n",
    "from pandas import read_csv\n",
    "data = read_csv(\"/content/drive/My Drive/Colab Notebooks/text-analysis/data/data.csv\")"
   ]
  },
  {
   "cell_type": "markdown",
   "id": "cfc74760",
   "metadata": {},
   "source": [
    "Create list of files we'll use for our analysis. We'll start by fitting a word2vec model to just one of the books in our list — Moby Dick."
   ]
  },
  {
   "cell_type": "code",
   "execution_count": null,
   "id": "eca68a23",
   "metadata": {},
   "outputs": [],
   "source": [
    "single_file = data.loc[data['Title'] == 'moby_dick','File'].item()\n",
    "single_file"
   ]
  },
  {
   "cell_type": "markdown",
   "id": "dd6f4234",
   "metadata": {},
   "source": [
    "Let's preview the file contents to make sure our code and directory setup is working correctly."
   ]
  },
  {
   "cell_type": "code",
   "execution_count": null,
   "id": "cb0d675a",
   "metadata": {},
   "outputs": [],
   "source": [
    "# open and read file\n",
    "f = open(single_file,'r')\n",
    "file_contents = f.read()\n",
    "f.close()\n",
    "\n",
    "# preview file contents\n",
    "preview_len = 500\n",
    "print(file_contents[0:preview_len])"
   ]
  },
  {
   "cell_type": "code",
   "execution_count": null,
   "id": "f64fe81c",
   "metadata": {},
   "outputs": [],
   "source": [
    "file_contents[0:preview_len] # Note that \\n are still present in actual string (print() processes these as new lines)"
   ]
  },
  {
   "cell_type": "markdown",
   "id": "1e3f0056",
   "metadata": {},
   "source": [
    "## Preprocessing steps\n",
    "1. Split text into sentences\n",
    "2. Tokenize the text\n",
    "3. Lemmatize and lowercase all tokens\n",
    "4. Remove stop words\n",
    "\n",
    "### 1. Convert text to list of sentences\n",
    "Remember that we are using the sequence of words in a sentence to learn meaningful word embeddings. The last word of one sentence does not always relate to the first word of the next sentence. For this reason, we will split the text into individual sentences before going further.\n",
    "\n",
    "#### Punkt Sentence Tokenizer\n",
    "NLTK's sentence tokenizer ('punkt') works well in most cases, but it may not correctly detect sentences when there is a complex paragraph that contains many punctuation marks, exclamation marks, abbreviations, or repetitive symbols. It is not possible to define a standard way to overcome these issues. If you want to ensure every \"sentence\" you use to train the Word2Vec is truly a sentence, you would need to write some additional (and highly data-dependent) code that uses regex and string manipulation to overcome rare errors.\n",
    "\n",
    "For our purposes, we're willing to overlook a few sentence tokenization errors. If this work were being published, it would be worthwhile to double-check the work of punkt."
   ]
  },
  {
   "cell_type": "code",
   "execution_count": null,
   "id": "d338f056",
   "metadata": {},
   "outputs": [],
   "source": [
    "import nltk\n",
    "nltk.download('punkt') # dependency of sent_tokenize function\n",
    "sentences = nltk.sent_tokenize(file_contents)"
   ]
  },
  {
   "cell_type": "code",
   "execution_count": null,
   "id": "8e37499e",
   "metadata": {},
   "outputs": [],
   "source": [
    "sentences[300:305]"
   ]
  },
  {
   "cell_type": "markdown",
   "id": "95830a5d",
   "metadata": {},
   "source": [
    "### 2-4: Tokenize, lemmatize, and remove stop words\n",
    " Pull up preprocess text helper function and unpack the code...\n",
    "* We'll run this function on each sentence\n",
    "* Lemmatization, tokenization, lowercase and stopwords are all review\n",
    "* For the lemmatization step, we'll use NLTK's lemmatizer which runs very quickly\n",
    "* We'll also use NLTK's stop word lists and its tokenization function. Recall that stop words are usually thought of as the most common words in a language. By removing them, we can let the Word2Vec model focus on sequences of meaningful words, only."
   ]
  },
  {
   "cell_type": "code",
   "execution_count": null,
   "id": "162af4f7",
   "metadata": {},
   "outputs": [],
   "source": [
    "from helpers import preprocess_text"
   ]
  },
  {
   "cell_type": "code",
   "execution_count": null,
   "id": "b7735a1f",
   "metadata": {},
   "outputs": [],
   "source": [
    "# test function\n",
    "string = 'It is not down on any map; true places never are.'\n",
    "tokens = preprocess_text(string, \n",
    "                         remove_stopwords=True,\n",
    "                         verbose=True)\n",
    "print('Result', tokens)"
   ]
  },
  {
   "cell_type": "code",
   "execution_count": null,
   "id": "d187159b",
   "metadata": {},
   "outputs": [],
   "source": [
    "# convert list of sentences to pandas series so we can use the apply functionality\n",
    "import pandas as pd\n",
    "sentences_series = pd.Series(sentences)"
   ]
  },
  {
   "cell_type": "code",
   "execution_count": null,
   "id": "2e85a935",
   "metadata": {},
   "outputs": [],
   "source": [
    "tokens_cleaned = sentences_series.apply(preprocess_text, \n",
    "                                        remove_stopwords=True, \n",
    "                                        verbose=False)"
   ]
  },
  {
   "cell_type": "code",
   "execution_count": null,
   "id": "a8ce943e",
   "metadata": {},
   "outputs": [],
   "source": [
    "# view sentences before clearning\n",
    "sentences[300:305]"
   ]
  },
  {
   "cell_type": "code",
   "execution_count": null,
   "id": "d27ec9ca",
   "metadata": {},
   "outputs": [],
   "source": [
    "# view sentences after cleaning\n",
    "tokens_cleaned[300:305]"
   ]
  },
  {
   "cell_type": "code",
   "execution_count": null,
   "id": "ce2e9a39",
   "metadata": {},
   "outputs": [],
   "source": [
    "tokens_cleaned.shape # 9852 sentences"
   ]
  },
  {
   "cell_type": "code",
   "execution_count": null,
   "id": "0e355778",
   "metadata": {},
   "outputs": [],
   "source": [
    "# remove empty sentences and 1-word sentences (all stop words)\n",
    "tokens_cleaned = tokens_cleaned[tokens_cleaned.apply(len) > 1]\n",
    "tokens_cleaned.shape"
   ]
  },
  {
   "cell_type": "markdown",
   "id": "808af511",
   "metadata": {},
   "source": [
    "### Train Word2Vec model using tokenized text\n",
    "We can now use this data to train a word2vec model. We'll start by importing the Word2Vec module from gensim. We'll then hand the Word2Vec function our list of tokenized sentences and set sg=0 (\"skip-gram\") to use the continuous bag of words (CBOW) training method. \n",
    "\n",
    "**Set seed and workers for a fully deterministic run**: Next we'll set some parameters for reproducibility. We'll set the seed so that our vectors get randomly initialized the same way each time this code is run. For a fully deterministically-reproducible run, we'll also limit the model to a single worker thread (workers=1), to eliminate ordering jitter from OS thread scheduling — noted in [gensim's documentation](https://radimrehurek.com/gensim/models/word2vec.html)"
   ]
  },
  {
   "cell_type": "code",
   "execution_count": null,
   "id": "5629088f",
   "metadata": {},
   "outputs": [],
   "source": [
    "# import gensim's Word2Vec module\n",
    "from gensim.models import Word2Vec\n",
    "\n",
    "# train the word2vec model with our cleaned data\n",
    "model = Word2Vec(sentences=tokens_cleaned, seed=0, workers=1, sg=0)"
   ]
  },
  {
   "cell_type": "markdown",
   "id": "d6c0016d",
   "metadata": {},
   "source": [
    "Gensim's implementation is based on the original [Tomas Mikolov's original model of word2vec](\"https://arxiv.org/pdf/1301.3781.pdf\"), which downsamples all frequent words automatically based on frequency. The downsampling saves time when training the model.\n",
    "\n",
    "### Next steps: word embedding use-cases\n",
    "We now have a vector representation for all the (lemmatized and non-stop words) words referenced throughout Moby Dick. Let's see how we can use these vectors to gain insights from our text data.\n",
    "\n",
    "\n",
    "### Most similar words\n",
    "Just like with the pretrained word2vec models, we can use the most_similar function to find words that meaningfully relate to a queried word."
   ]
  },
  {
   "cell_type": "code",
   "execution_count": null,
   "id": "4b34bcdd",
   "metadata": {},
   "outputs": [],
   "source": [
    "# default\n",
    "model.wv.most_similar(positive=['whale'], topn=10)"
   ]
  },
  {
   "cell_type": "markdown",
   "id": "08f72a25",
   "metadata": {},
   "source": [
    "### Vocabulary limits\n",
    "Note that Word2Vec can only produce vector representations for words encountered in the data used to train the model."
   ]
  },
  {
   "cell_type": "code",
   "execution_count": null,
   "id": "76bda96c",
   "metadata": {},
   "outputs": [],
   "source": [
    "model.wv.most_similar(positive=['orca'],topn=30) # KeyError: \"Key 'orca' not present in vocabulary\""
   ]
  },
  {
   "cell_type": "markdown",
   "id": "2f8530d1",
   "metadata": {},
   "source": [
    "### fastText solves OOV issue\n",
    "If you need to obtain word vectors for out of vocabulary (OOV) words, you can use the fastText word embedding model, instead (also provided from Gensim). \n",
    "The fastText model can obtain vectors even for out-of-vocabulary (OOV) words, by summing up vectors for its component char-ngrams, provided at least one of the char-ngrams was present in the training data.\n",
    "\n",
    "### Word2Vec for Named Entity Recognition\n",
    "What can we do with this most similar functionality? One way we can use it is to construct a list of similar words to represent some sort of category. For example, maybe we want to know what other sea creatures are referenced throughout Moby Dick. We can use gensim's most_smilar function to begin constructing a list of words that, on average, represent a \"sea creature\" category.  \n",
    "\n",
    "We'll use the following procedure:\n",
    "1. Initialize a small list of words that represent the category, sea creatures.\n",
    "2. Calculate the average vector representation of this list of words\n",
    "3. Use this average vector to find the top N most similar vectors (words)\n",
    "4. Review similar words and update the sea creatures list\n",
    "5. Repeat steps 1-4 until no additional sea creatures can be found"
   ]
  },
  {
   "cell_type": "code",
   "execution_count": null,
   "id": "77c21e3a",
   "metadata": {},
   "outputs": [],
   "source": [
    "# start with a small list of words that represent sea creatures \n",
    "sea_creatures = ['whale','fish','creature','animal']\n",
    "\n",
    "# The below code will calculate an average vector of the words in our list, \n",
    "# and find the vectors/words that are most similar to this average vector\n",
    "model.wv.most_similar(positive=sea_creatures, topn=30)"
   ]
  },
  {
   "cell_type": "code",
   "execution_count": null,
   "id": "8cc4b985",
   "metadata": {},
   "outputs": [],
   "source": [
    "# we can add shark to our list\n",
    "model.wv.most_similar(positive=['whale','fish','creature','animal','shark'],topn=30)"
   ]
  },
  {
   "cell_type": "code",
   "execution_count": null,
   "id": "12851a9c",
   "metadata": {},
   "outputs": [],
   "source": [
    "# add leviathan (sea serpent) to our list\n",
    "model.wv.most_similar(positive=['whale','fish','creature','animal','shark','leviathan'],topn=30)"
   ]
  },
  {
   "cell_type": "markdown",
   "id": "77e44de4",
   "metadata": {},
   "source": [
    "No additional sea creatures. It appears we have our list of sea creatures recovered using Word2Vec\n",
    "\n",
    "#### Limitations \n",
    "There is at least one sea creature missing from our list — a giant squid. The giant squid is only mentioned a handful of times throughout Moby Dick, and therefore it could be that our word2vec model was not able to train a good representation of the word \"squid\". Neural networks only work well when you have lots of data\n",
    "\n",
    "> ## Exploring the skip-gram algorithm \n",
    ">\n",
    "> The skip-gram algoritmm sometimes performs better in terms of its ability to capture meaning of rarer words encountered in the training data. Train a new Word2Vec model using the skip-gram algorithm, and see if you can repeat the above categorical search task to find the word, \"squid\".\n",
    "\n",
    "> ## Entity Recognition Applications\n",
    "> \n",
    "> How else might you exploit this kind of analysis in your research? Share your ideas with the group.\n",
    "\n",
    "> ## Comparing Vector Representations Across Authors\n",
    "> \n",
    "> Recall that the Word2Vec model learns to encode a word's meaning/representation based on that word's most common surrounding context words. By training two separate Word2Vec models on, e.g., books collected from two different authors (one model for each author), we can compare how the different authors tend to use words differently. What are some research questions or words that we could investigate with this kind of approach?\n",
    "\n",
    "### Other word embedding models\n",
    "While Word2Vec is a famous model that is still used throughout many NLP applications today, there are a few other word embedding models that you might also want to consider exploring. GloVe and fastText are among the two most popular choices to date."
   ]
  },
  {
   "cell_type": "code",
   "execution_count": null,
   "id": "8aada5de",
   "metadata": {},
   "outputs": [],
   "source": [
    "# Preview other word embedding models available\n",
    "print(list(api.info()['models'].keys()))"
   ]
  },
  {
   "cell_type": "markdown",
   "id": "305a3377",
   "metadata": {},
   "source": [
    "#### Similarities\n",
    "* All three algorithms generate vector representations of words in a high-dimensional space.\n",
    "* They can be used to solve a wide range of natural language processing tasks.\n",
    "* They are all open-source and widely used in the research community.\n",
    "\n",
    "#### Differences\n",
    "* Word2Vec focuses on generating embeddings by predicting the context of a word given its surrounding words in a sentence, while GloVe and fastText generate embeddings by predicting the probability of a word co-occurring with another word in a corpus.\n",
    "* fastText also includes character n-grams, allowing it to generate embeddings for words not seen during training, making it particularly useful for handling out-of-vocabulary words.\n",
    "* In general, fastText is considered to be the fastest to train among the three embedding techniques (GloVe, fastText, and Word2Vec). This is because fastText uses subword information, which reduces the vocabulary size and allows the model to handle out-of-vocabulary words. Additionally, fastText uses a hierarchical softmax for training, which is faster than the traditional softmax used by Word2Vec. Finally, fastText can be trained on multiple threads, further speeding up the training process."
   ]
  }
 ],
 "metadata": {},
 "nbformat": 4,
 "nbformat_minor": 5
}
