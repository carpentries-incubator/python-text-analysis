{
 "cells": [
  {
   "cell_type": "markdown",
   "id": "d5c0c2af",
   "metadata": {},
   "source": [
    "# Latent Semantic Analysis"
   ]
  },
  {
   "cell_type": "markdown",
   "id": "b773bd62",
   "metadata": {},
   "source": [
    "So far, we've learned the kinds of task NLP can be used for, preprocessed our data, and represented it as a TF-IDF vector space.\n",
    "\n",
    "Now, we begin to close the loop with Topic Modeling — one of many embedding-related tasks possible with NLP.\n",
    "\n",
    "![The Interpretive Loop](https://raw.githubusercontent.com/carpentries-incubator/python-text-analysis/main/images/01-Interpretive_Loop.JPG)\n",
    "\n",
    "Topic Modeling is a frequent goal of text analysis. Topics are the things that a document is about, by some sense of \"about.\" We could think of topics as:\n",
    "\n",
    "- discrete categories that your documents belong to, such as fiction vs. non-fiction\n",
    "- or spectra of subject matter that your documents contain in differing amounts, such as being about politics, cooking, racing, dragons, ...\n",
    "\n",
    "In the first case, we could use machine learning to predict discrete categories, such as [trying to determine the author of the Federalist Papers](https://towardsdatascience.com/hamilton-a-text-analysis-of-the-federalist-papers-e64cb1764fbf).\n",
    "\n",
    "In the second case, we could try to determine the least number of topics that provides the most information about how our documents differ from one another, then use those concepts to gain insight about the \"stuff\" or \"story\" of our corpus as a whole.\n",
    "\n",
    "In this lesson we'll focus on this second case, where topics are treated as spectra of subject matter. There are a variety of ways of doing this, and not all of them use the vector space model we have learned. For example:\n",
    "\n",
    "- Vector-space models:\n",
    "  - Principle Component Analysis (PCA)\n",
    "  - Epistemic Network Analysis (ENA)\n",
    "  - Latent Semantic Analysis (LSA)\n",
    "- Probability models:\n",
    "  - Latent Dirichlet Allocation (LDA)\n",
    "\n",
    "Specifically, we will be discussing Latent Semantic Analysis (LSA). We're narrowing our focus to LSA because it introduces us to concepts and workflows that we will use in the future, in particular that of dimensional reduction.\n",
    "\n",
    "## What is dimensional reduction?\n",
    "\n",
    "Think of a map of the Earth. The Earth is a three dimensional sphere, but we often represent it as a two dimensional shape such as a square or circle. We are performing dimensional reduction- taking a three dimensional object and trying to represent it in two dimensions.\n",
    "\n",
    "![Maps with different projections of the Earth](https://raw.githubusercontent.com/carpentries-incubator/python-text-analysis/main/images/05-projections.jpg)\n",
    "\n",
    "Why do we create maps? It can often be helpful to have a two dimensional representation of the Earth. It may be used to get an approximate idea of the sizes and shapes of various countries next to each other, or to determine at a glance what things are roughly in the same direction. \n",
    "\n",
    "How do we create maps? There's many ways to do it, depending on what properties are important to us. We cannot perfectly capture area, shape, direction, bearing and distance all in the same model- we must make tradeoffs. Different projections will better preserve different properties we find desirable. But not all the relationships will be preserved- some projections will distort area in certain regions, others will distort directions or proximity. Our technique will likely depend on what our application is and what we determine is valuable.\n",
    "\n",
    "Dimensional reduction for our data is the same principle. Why do we do dimensional reduction? When we perform dimensional reduction we hope to take our highly dimensional language data and get a useful 'map' of our data with fewer dimensions. We have various tasks we may want our map to help us with. We can determine what words and documents are semantically \"close\" to each other, or create easy to visualise clusters of points.\n",
    "\n",
    "How do we do dimensional reduction? There are many ways to do dimensional reduction, in the same way that we have many projections for maps. Like maps, different dimensional reduction techniques have different properties we have to choose between- high performance in tasks, ease of human interpretation, and making the model easily trainable are a few. They are all desirable but not always compatible. When we lose a dimension, we inevitably lose data from our original representation. This problem is multiplied when we are reducing so many dimensions. We try to bear in mind the tradeoffs and find useful models that don't lose properties and relationships we find important. But \"importance\" depends on your moral theoretical stances. Because of this, it is important to carefully inspect the results of your model, carefully interpret the \"topics\" it identifies, and check all that against your qualitative and theoretical understanding of your documents.\n",
    "\n",
    "This will likely be an iterative process where you refine your model several times. Keep in mind the adage: all models are wrong, some are useful, and a less accurate model may be easier to explain to your stakeholders.\n",
    "\n",
    "## LSA\n",
    "\n",
    "The assumption behind LSA is that underlying the thousands of words in our vocabulary are a smaller number of hidden (\"latent\") topics, and that those topics help explain the distribution of the words we see across our documents. In all our models so far, each dimension has corresponded to a single word. But in LSA, each dimension now corresponds to a hidden topic, and each of those in turn corresponds to the words that are most strongly associated with it.\n",
    "\n",
    "For example, a hidden topic might be [the lasting influence of the Battle of Hastings on the English language](https://museumhack.com/english-language-changed/), with some documents using more words with Anglo-Saxon roots and other documents using more words with Latin roots. This dimension is \"hidden\" because authors don't usually stamp a label on their books with a summary of the linguistic histories of their words. Still, we can imagine a spectrum between words that are strongly indicative of authors with more Anglo-Saxon diction vs. words strongly indicative of authors with more Latin diction. Once we have that spectrum, we can place our documents along it, then move on to the next hidden topic, then the next, and so on, until we've discussed the fewest, strongest hidden topics that capture the most \"story\" about our corpus.\n",
    "\n",
    "LSA requires two steps- first we must create a TF-IDF matrix, which we have already covered in our previous lesson. \n",
    "\n",
    "Next, we will perform dimensional reduction using a technique called SVD.\n",
    "\n",
    "### Worked Example: LSA\n",
    "In case you are starting from a fresh notebook, you will need to (1), mount Google drive (2) add the helper code to your path, (3) load the data.csv file, and (4) pip install parse which is used in the helper function code."
   ]
  },
  {
   "cell_type": "code",
   "execution_count": null,
   "id": "473b199d",
   "metadata": {},
   "outputs": [],
   "source": [
    "# Run this cell to mount your Google Drive.\n",
    "from google.colab import drive\n",
    "drive.mount('/content/drive')\n",
    "\n",
    "# Show existing colab notebooks and helpers.py file\n",
    "from os import listdir\n",
    "wksp_dir = '/content/drive/My Drive/Colab Notebooks/text-analysis/code'\n",
    "print(listdir(wksp_dir))\n",
    "\n",
    "# Add folder to colab's path so we can import the helper functions\n",
    "import sys\n",
    "sys.path.insert(0, wksp_dir)\n",
    "\n",
    "# Read the data back in.\n",
    "from pandas import read_csv\n",
    "data = read_csv(\"/content/drive/My Drive/Colab Notebooks/text-analysis/data/data.csv\")\n",
    "data.head()"
   ]
  },
  {
   "cell_type": "code",
   "execution_count": null,
   "id": "807e9875",
   "metadata": {},
   "outputs": [],
   "source": [
    "!pip install pathlib parse # parse is used by helper functions"
   ]
  },
  {
   "cell_type": "markdown",
   "id": "130b94d4",
   "metadata": {},
   "source": [
    "Mathematically, these \"latent semantic\" dimensions are derived from our TF-IDF matrix, so let's begin there. From the previous lesson:"
   ]
  },
  {
   "cell_type": "code",
   "execution_count": null,
   "id": "511361cf",
   "metadata": {},
   "outputs": [],
   "source": [
    "from sklearn.feature_extraction.text import TfidfVectorizer\n",
    "vectorizer = TfidfVectorizer(input='filename', max_df=.6, min_df=.1) # Here, max_df=.6 removes terms that appear in more than 60% of our documents (overly common words like the, a, an) and min_df=.1 removes terms that appear in less than 10% of our documents (overly rare words like specific character names, typos, or punctuation the tokenizer doesn’t understand)\n",
    "tfidf = vectorizer.fit_transform(list(data[\"Lemma_File\"]))\n",
    "print(tfidf.shape)"
   ]
  },
  {
   "cell_type": "markdown",
   "id": "b1ab35b8",
   "metadata": {},
   "source": [
    "~~~\n",
    "(41, 9879)\n",
    "~~~\n",
    "{: .output}\n",
    "\n",
    "What do these dimensions mean? We have 41 documents, which we can think of as rows. And we have several thousands of tokens, which is like a dictionary of all the types of words we have in our documents, and which we represent as columns.\n",
    "\n",
    "#### Dimension Reduction Via Singular Value Decomposition (SVD)\n",
    "Now we want to reduce the number of dimensions used to represent our documents. We will use a technique called Singular Value Decomposition (SVD) to do so. SVD is a powerful linear algebra tool that works by capturing the underlying patterns and relationships within a given matrix. When applied to a TF-IDF matrix, it identifies the most significant patterns of word co-occurrence across documents and condenses this information into a smaller set of \"topics,\" which are abstract representations of semantic themes present in the corpus. By reducing the number of dimensions, we gradually distill the essence of our corpus into a concise set of topics that capture the key themes and concepts across our documents. This streamlined representation not only simplifies further analysis but also uncovers the latent structure inherent in our text data, enabling us to gain deeper insights into its content and meaning.\n",
    "\n",
    "To see this, let's begin to reduce the dimensionality of our TF-IDF matrix using SVD, starting with the greatest number of dimensions (min(#rows, #cols)). In this case the maxiumum number of 'topics' corresponds to the number of documents- 41."
   ]
  },
  {
   "cell_type": "code",
   "execution_count": null,
   "id": "a067e3dc",
   "metadata": {},
   "outputs": [],
   "source": [
    "from sklearn.decomposition import TruncatedSVD\n",
    "\n",
    "maxDimensions = min(tfidf.shape)-1\n",
    "\n",
    "svdmodel = TruncatedSVD(n_components=maxDimensions, algorithm=\"arpack\") # The \"arpack\" algorithm is typically more efficient for large sparse matrices compared to the default \"randomized\" algorithm. This is particularly important when dealing with high-dimensional data, such as TF-IDF matrices, where the number of features (terms) may be large. SVD is typically computed as an approximation when working with large matrices.\n",
    "\n",
    "lsa = svdmodel.fit_transform(tfidf)\n",
    "\n",
    "print(lsa)"
   ]
  },
  {
   "cell_type": "markdown",
   "id": "ba5ca6be",
   "metadata": {},
   "source": [
    "~~~\n",
    "[[ 3.91364432e-01 -3.38256707e-01 -1.10255485e-01 ... -3.30703329e-04\n",
    "    2.26445596e-03 -1.29373990e-02]\n",
    "  [ 2.83139301e-01 -2.03163967e-01  1.72761316e-01 ...  1.98594965e-04\n",
    "  -4.41931701e-03 -1.84732254e-02]\n",
    "  [ 3.32869588e-01 -2.67008449e-01 -2.43271177e-01 ...  4.50149502e-03\n",
    "    1.99200352e-03  2.32871393e-03]\n",
    "  ...\n",
    "  [ 1.91400319e-01 -1.25861226e-01  4.36682522e-02 ... -8.51158743e-04\n",
    "    4.48451964e-03  1.67944132e-03]\n",
    "  [ 2.33925324e-01 -8.46322843e-03  1.35493523e-01 ...  5.46406784e-03\n",
    "  -1.11972177e-03  3.86332162e-03]\n",
    "  [ 4.09480701e-01 -1.78620470e-01 -1.61670733e-01 ... -6.72035999e-02\n",
    "    9.27745251e-03 -7.60191949e-05]]\n",
    "~~~\n",
    "{: .output}\n",
    "\n",
    "Unlike with a globe, we must make a choice of how many dimensions to cut out. We could have anywhere between 41 topics to 2. \n",
    "\n",
    "How should we pick a number of topics to keep? Fortunately, the dimension reducing technique we used produces something to help us understand how much data each topic explains.\n",
    "Let's take a look and see how much data each topic explains. We will visualize it on a graph."
   ]
  },
  {
   "cell_type": "code",
   "execution_count": null,
   "id": "9044c1e1",
   "metadata": {},
   "outputs": [],
   "source": [
    "import matplotlib.pyplot as plt\n",
    "import numpy as np\n",
    "\n",
    "#this shows us the amount of dropoff in explanation we have in our sigma matrix. \n",
    "print(svdmodel.explained_variance_ratio_)\n",
    "\n",
    "# Calculate cumulative sum of explained variance ratio\n",
    "cumulative_variance_ratio = np.cumsum(svdmodel.explained_variance_ratio_)\n",
    "\n",
    "plt.plot(range(1, maxDimensions + 1), cumulative_variance_ratio * 100)\n",
    "plt.xlabel(\"Number of Topics\")\n",
    "plt.ylabel(\"Cumulative % of Information Retained\")\n",
    "plt.ylim(0, 100)  # Adjust y-axis limit to 0-100\n",
    "plt.grid(True)    # Add grid lines"
   ]
  },
  {
   "cell_type": "markdown",
   "id": "19462049",
   "metadata": {},
   "source": [
    "~~~\n",
    "[0.02053967 0.12553786 0.08088013 0.06750632 0.05095583 0.04413301\n",
    "  0.03236406 0.02954683 0.02837433 0.02664072 0.02596086 0.02538922\n",
    "  0.02499496 0.0240097  0.02356043 0.02203859 0.02162737 0.0210681\n",
    "  0.02004    0.01955728 0.01944726 0.01830292 0.01822243 0.01737443\n",
    "  0.01664451 0.0160519  0.01494616 0.01461527 0.01455848 0.01374971\n",
    "  0.01308112 0.01255502 0.01201655 0.0112603  0.01089138 0.0096127\n",
    "  0.00830014 0.00771224 0.00622448 0.00499762]\n",
    "~~~\n",
    "{: .output}\n",
    "\n",
    "![Image of drop-off of variance explained](https://raw.githubusercontent.com/carpentries-incubator/python-text-analysis/main/images/LSA_cumulative_information_retained_plot.png)\n",
    "\n",
    "Often a heuristic used by researchers to determine a topic count is to look at the dropoff in percentage of data explained by each topic.\n",
    "\n",
    "Typically the rate of data explained will be high at first, dropoff quickly, then start to level out. We can pick a point on the \"elbow\" where it goes from a high level of explanation to where it starts leveling out and not explaining as much per topic. Past this point, we begin to see diminishing returns on the amount of the \"stuff\" of our documents we can cover quickly. This is also often a good sweet spot between overfitting our model and not having enough topics.\n",
    "\n",
    "Alternatively, we could set some target sum for how much of our data we want our topics to explain, something like 90% or 95%. However, with a small dataset like this, that would result in a large number of topics, so we'll pick an elbow instead.\n",
    "\n",
    "Looking at our results so far, a good number in the middle of the \"elbow\" appears to be around 5-7 topics. So, let's fit a model using only 6 topics and then take a look at what each topic looks like.\n",
    "\n",
    "> ## Why is the first topic, \"Topic 0,\" so low?\n",
    ">\n",
    "> It has to do with how our SVD was setup. Truncated SVD does not mean center the data beforehand, which takes advantage of sparse matrix algorithms by leaving most of the data at zero. Otherwise, our matrix will me mostly filled with the negative of the mean for each column or row, which takes much more memory to store. The math is outside the scope for this lesson, but it's expected in this scenario that topic 0 will be less informative than the ones that come after it, so we'll skip it.\n",
    "{: .callout}"
   ]
  },
  {
   "cell_type": "code",
   "execution_count": null,
   "id": "9f6e1baa",
   "metadata": {},
   "outputs": [],
   "source": [
    "numDimensions = 7\n",
    "svdmodel = TruncatedSVD(n_components=numDimensions, algorithm=\"arpack\")\n",
    "lsa = svdmodel.fit_transform(tfidf)\n",
    "print(lsa)"
   ]
  },
  {
   "cell_type": "markdown",
   "id": "21d25635",
   "metadata": {},
   "source": [
    "~~~\n",
    "[[ 3.91364432e-01 -3.38256707e-01 -1.10255485e-01 -1.57263147e-01\n",
    "  4.46988327e-01  4.19701195e-02 -1.60554169e-01]\n",
    "  ...\n",
    "~~~\n",
    "{: .output}\n",
    "\n",
    "And put all our results together in one DataFrame so we can save it to a spreadsheet to save all the work we've done so far. This will also make plotting easier in a moment.\n",
    "\n",
    "Since we don't know what these topics correspond to yet, for now I'll call the first topic X, the second Y, the third Z, and so on."
   ]
  },
  {
   "cell_type": "code",
   "execution_count": null,
   "id": "754d174b",
   "metadata": {},
   "outputs": [],
   "source": [
    "data[[\"X\", \"Y\", \"Z\", \"W\", \"P\", \"Q\"]] = lsa[:, [1, 2, 3, 4, 5, 6]]\n",
    "data.head()"
   ]
  },
  {
   "cell_type": "markdown",
   "id": "0ce0d6e7",
   "metadata": {},
   "source": [
    "Let's also mean-center the data, so that the \"average\" value per topic (across all our documents) lies at the origin when we plot things in a moment. By mean-centering, you are ensuring that the \"average\" value for each topic becomes the reference point (0,0) in the plot, which can provide more informative insights into the relative distribution and relationships between topics."
   ]
  },
  {
   "cell_type": "code",
   "execution_count": null,
   "id": "3690cd57",
   "metadata": {},
   "outputs": [],
   "source": [
    "data[[\"X\", \"Y\", \"Z\", \"W\", \"P\", \"Q\"]] = lsa[:, [1, 2, 3, 4, 5, 6]]-lsa[:, [1, 2, 3, 4, 5, 6]].mean(0)\n",
    "data[[\"X\", \"Y\", \"Z\", \"W\", \"P\", \"Q\"]].mean()"
   ]
  },
  {
   "cell_type": "markdown",
   "id": "1ad422ed",
   "metadata": {},
   "source": [
    "~~~\n",
    "X   -7.446618e-18\n",
    "Y   -2.707861e-18\n",
    "Z   -1.353931e-18\n",
    "W   -1.184689e-17\n",
    "P    3.046344e-18\n",
    "Q    2.200137e-18\n",
    "dtype: float64\n",
    "~~~\n",
    "{: .output}\n",
    "\n",
    "Finally, let's save our progress so far."
   ]
  },
  {
   "cell_type": "code",
   "execution_count": null,
   "id": "a37d4c3c",
   "metadata": {},
   "outputs": [],
   "source": [
    "data.to_csv(\"/content/drive/My Drive/Colab Notebooks/text-analysis/data/data.csv\", index=False)"
   ]
  },
  {
   "cell_type": "markdown",
   "id": "286647d4",
   "metadata": {},
   "source": [
    "## Inspecting LSA Results\n",
    "\n",
    "### Plotting\n",
    "\n",
    "Let's plot the results, using a helper we prepared for learners. We'll focus on the X and Y topics for now to illustrate the workflow. We'll return to the other topics in our model as a further exercise."
   ]
  },
  {
   "cell_type": "code",
   "execution_count": null,
   "id": "ca1fd95d",
   "metadata": {},
   "outputs": [],
   "source": [
    "from helpers import lsa_plot\n",
    "lsa_plot(data, svdmodel)"
   ]
  },
  {
   "cell_type": "markdown",
   "id": "80a0c4d4",
   "metadata": {},
   "source": [
    "![Plot results of our LSA model](https://raw.githubusercontent.com/carpentries-incubator/python-text-analysis/main/images/05-lsa-plot.png)\n",
    "\n",
    "What do you think these X and Y axes are capturing, conceptually?\n",
    "\n",
    "To help figure that out, lets color-code by author to see if any patterns are immediately apparent."
   ]
  },
  {
   "cell_type": "code",
   "execution_count": null,
   "id": "6ae18d9c",
   "metadata": {},
   "outputs": [],
   "source": [
    "colormap = {\n",
    "    \"austen\": \"red\",\n",
    "    \"chesterton\": \"blue\",\n",
    "    \"dickens\": \"green\",\n",
    "    \"dumas\": \"orange\",\n",
    "    \"melville\": \"cyan\",\n",
    "    \"shakespeare\": \"magenta\"\n",
    "}\n",
    "\n",
    "lsa_plot(data, svdmodel, groupby=\"author\", colors=colormap)"
   ]
  },
  {
   "cell_type": "markdown",
   "id": "5a41bc45",
   "metadata": {},
   "source": [
    "![Plot results of our LSA model, color-coded by author](https://raw.githubusercontent.com/carpentries-incubator/python-text-analysis/main/images/05-lsa-plot-color.png)\n",
    "\n",
    "It seems that some of the books by the same author are clumping up together in our plot.\n",
    "\n",
    "We don't know *why* they are getting arranged this way, since we don't know what more concepts X and Y correspond to. But we can work do some work to figure that out.\n",
    "\n",
    "### Topics\n",
    "\n",
    "Let's write a helper to get the strongest words for each topic. This will show the terms with the *highest* and *lowest* association with a topic. In LSA, each topic is a spectra of subject matter, from the kinds of terms on the low end to the kinds of terms on the high end. So, inspecting the *contrast* between these high and low terms (and checking that against our domain knowledge) can help us interpret what our model is identifying."
   ]
  },
  {
   "cell_type": "code",
   "execution_count": null,
   "id": "ad845bc3",
   "metadata": {},
   "outputs": [],
   "source": [
    "import pandas as pd\n",
    "\n",
    "def show_topics(vectorizer, svdmodel, topic_number, n):\n",
    "    # Get the feature names (terms) from the TF-IDF vectorizer\n",
    "    terms = vectorizer.get_feature_names_out()\n",
    "    \n",
    "    # Get the weights of the terms for the specified topic from the SVD model\n",
    "    weights = svdmodel.components_[topic_number]\n",
    "    \n",
    "    # Create a DataFrame with terms and their corresponding weights\n",
    "    df = pd.DataFrame({\"Term\": terms, \"Weight\": weights})\n",
    "    \n",
    "    # Sort the DataFrame by weights in descending order to get top n terms (largest positive weights)\n",
    "    highs = df.sort_values(by=[\"Weight\"], ascending=False)[0:n]\n",
    "    \n",
    "    # Sort the DataFrame by weights in ascending order to get bottom n terms (largest negative weights)\n",
    "    lows = df.sort_values(by=[\"Weight\"], ascending=False)[-n:]\n",
    "    \n",
    "    # Concatenate top and bottom terms into a single DataFrame and return\n",
    "    return pd.concat([highs, lows])\n",
    "\n",
    "# Get the top 5 and bottom 5 terms for each specified topic\n",
    "topic_words_x = show_topics(vectorizer, svdmodel, 1, 5)  # Topic 1\n",
    "topic_words_y = show_topics(vectorizer, svdmodel, 2, 5)  # Topic 2"
   ]
  },
  {
   "cell_type": "markdown",
   "id": "661877a2",
   "metadata": {},
   "source": [
    "You can also use a helper we prepared for learners:"
   ]
  },
  {
   "cell_type": "code",
   "execution_count": null,
   "id": "9b13529c",
   "metadata": {},
   "outputs": [],
   "source": [
    "from helpers import show_topics\n",
    "topic_words_x = show_topics(vectorizer, svdmodel, topic_number=1, n=5)\n",
    "topic_words_y = show_topics(vectorizer, svdmodel, topic_number=2, n=5)"
   ]
  },
  {
   "cell_type": "markdown",
   "id": "b63a87ab",
   "metadata": {},
   "source": [
    "Either way, let's look at the terms for the X topic.\n",
    "\n",
    "What does this topic seem to represent to you? What's the contrast between the top and bottom terms?"
   ]
  },
  {
   "cell_type": "code",
   "execution_count": null,
   "id": "2f453f46",
   "metadata": {},
   "outputs": [],
   "source": [
    "print(topic_words_x)"
   ]
  },
  {
   "cell_type": "markdown",
   "id": "52a08c71",
   "metadata": {},
   "source": [
    "~~~\n",
    "            Term    Weight\n",
    "8718        thou  0.369606\n",
    "4026        hath  0.368384\n",
    "3104        exit  0.219252\n",
    "8673        thee  0.194711\n",
    "8783         tis  0.184968\n",
    "9435          ve -0.083406\n",
    "555   attachment -0.090431\n",
    "294           am -0.103122\n",
    "5312          ma -0.117927\n",
    "581         aunt -0.139385\n",
    "~~~\n",
    "{: .output}\n",
    "\n",
    "And the Y topic.\n",
    "\n",
    "What does this topic seem to represent to you? What's the contrast between the top and bottom terms?"
   ]
  },
  {
   "cell_type": "code",
   "execution_count": null,
   "id": "52c82d7a",
   "metadata": {},
   "outputs": [],
   "source": [
    "print(topic_words_y)"
   ]
  },
  {
   "cell_type": "markdown",
   "id": "58abe505",
   "metadata": {},
   "source": [
    "~~~\n",
    "            Term    Weight\n",
    "1221    cardinal  0.269191\n",
    "5318      madame  0.258087\n",
    "6946       queen  0.229547\n",
    "4189       honor  0.211801\n",
    "5746   musketeer  0.203572\n",
    "294           am -0.112988\n",
    "5312          ma -0.124932\n",
    "555   attachment -0.150380\n",
    "783    behaviour -0.158139\n",
    "581         aunt -0.216180\n",
    "~~~\n",
    "{: .output}\n",
    "\n",
    "Now that we have names for our first two topics, let's redo the plot with better axis labels."
   ]
  },
  {
   "cell_type": "code",
   "execution_count": null,
   "id": "44c61280",
   "metadata": {},
   "outputs": [],
   "source": [
    "lsa_plot(data, svdmodel, groupby=\"author\", colors=colormap, xlabel=\"Victorian vs. Elizabethan\", ylabel=\"English vs. French\")"
   ]
  },
  {
   "cell_type": "markdown",
   "id": "772dd90d",
   "metadata": {},
   "source": [
    "![Plot results of our LSA model, revised with new axis labels](https://raw.githubusercontent.com/carpentries-incubator/python-text-analysis/main/images/05-lsa-plot-labeled.png)\n",
    "\n",
    "> ## Check Your Understanding: Intrepreting LSA Results\n",
    ">\n",
    "> Let's repeat this process with the other 4 topics, which we tentatively called Z, W, P, and Q.\n",
    ">\n",
    "> In the first two topics (X and Y), some authors were clearly separated, but others overlapped. If we hadn't color coded them, we wouldn't be easily able to tell them apart.\n",
    ">\n",
    "> But in remaining topics, different combinations of authors get pulled apart or together. This is because these topics (Z, W, P, and Q) highlight different features of the data, *independent* of the features we've already captured above.\n",
    ">\n",
    "> Take a few moments to work through the steps above for the remaining dimensions Z, W, P, and Q, and chat with one another about what you think the topics being represented are.\n",
    "{: .challenge}"
   ]
  }
 ],
 "metadata": {},
 "nbformat": 4,
 "nbformat_minor": 5
}
