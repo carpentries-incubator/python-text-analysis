{
 "cells": [
  {
   "cell_type": "markdown",
   "id": "30718bbc",
   "metadata": {},
   "source": [
    "# Finetuning LLMs"
   ]
  },
  {
   "cell_type": "markdown",
   "id": "c85a4b18",
   "metadata": {},
   "source": [
    "## Setup\n",
    "\n",
    "If you are running this lesson on Google Colab, it is strongly recommended that you enable GPU acceleration. If you are running locally without CUDA, you should be able to run most of the commands, but training will take a long time and you will want to use the pretrained model when using it.\n",
    "\n",
    "To enable GPU, click \"Edit > Notebook settings\" and select GPU. If enabled, this command will return a status window and not an error:"
   ]
  },
  {
   "cell_type": "code",
   "execution_count": null,
   "id": "c910ec12",
   "metadata": {},
   "outputs": [],
   "source": [
    "!nvidia-smi"
   ]
  },
  {
   "cell_type": "markdown",
   "id": "9cf382e6",
   "metadata": {},
   "source": [
    "Thu Mar 28 20:50:47 2024       \n",
    "    +---------------------------------------------------------------------------------------+\n",
    "    | NVIDIA-SMI 535.104.05             Driver Version: 535.104.05   CUDA Version: 12.2     |\n",
    "    |-----------------------------------------+----------------------+----------------------+\n",
    "    | GPU  Name                 Persistence-M | Bus-Id        Disp.A | Volatile Uncorr. ECC |\n",
    "    | Fan  Temp   Perf          Pwr:Usage/Cap |         Memory-Usage | GPU-Util  Compute M. |\n",
    "    |                                         |                      |               MIG M. |\n",
    "    |=========================================+======================+======================|\n",
    "    |   0  Tesla T4                       Off | 00000000:00:04.0 Off |                    0 |\n",
    "    | N/A   64C    P8              11W /  70W |      0MiB / 15360MiB |      0%      Default |\n",
    "    |                                         |                      |                  N/A |\n",
    "    +-----------------------------------------+----------------------+----------------------+\n",
    "                                                                                             \n",
    "    +---------------------------------------------------------------------------------------+\n",
    "    | Processes:                                                                            |\n",
    "    |  GPU   GI   CI        PID   Type   Process name                            GPU Memory |\n",
    "    |        ID   ID                                                             Usage      |\n",
    "    |=======================================================================================|\n",
    "    |  No running processes found                                                           |\n",
    "    +---------------------------------------------------------------------------------------+\n",
    "\n",
    "These installation commands will take time to run. Begin them now."
   ]
  },
  {
   "cell_type": "code",
   "execution_count": null,
   "id": "41a8d9ac",
   "metadata": {},
   "outputs": [],
   "source": [
    "!pip install transformers datasets evaluate seqeval"
   ]
  },
  {
   "cell_type": "markdown",
   "id": "cc69ba7b",
   "metadata": {},
   "source": [
    "# Finetuning LLMs\n",
    "\n",
    "In 2017, a revolutionary breakthrough for NLP occurred. A new type of hidden layer for neural networks called Transfomers were invented. Transformers made processing huge amounts of data feasible for the first time.\n",
    "\n",
    "Large Language Models, or LLMs, were the result. LLMs are the current state of the art when it comes to many tasks, and although LLMs can differ, they are mostly based on a similar architecture to one another. We will be looking at an influential LLM called BERT.\n",
    "\n",
    "![BERT fine-tune](https://raw.githubusercontent.com/carpentries-incubator/python-text-analysis/main/images/10-bert-fine-tune.png)\n",
    "\n",
    "Training these models from scratch requires a huge amount of data and compute power. The majority of work is done for the many hidden layers of the model. However, by tweaking only the output layer, BERT can effectively perform many tasks with a minimal amount of data. This process of adapting an LLM is called __fine-tuning__.\n",
    "\n",
    "Because of this, we will not be writing the code for this lesson from scratch. Rather, this lesson will focus on creating our own data, adapting existing code and modifying it to achieve the task we want to accomplish.\n",
    "\n",
    "\n",
    "## Using Existing Model- DistilBERT\n",
    "\n",
    "We will be using a miniture LLM called DistilBERT for this lesson. We are using the \"uncased\" version of distilbert, which removes capitalization.\n",
    "\n",
    "Much like many of our models, DistilBERT is available through HuggingFace.\n",
    "https://huggingface.co/docs/transformers/model_doc/distilbert\n",
    "\n",
    "Let's start by importing the library, and importing both the pretrained model and the tokenizer that BERT uses."
   ]
  },
  {
   "cell_type": "code",
   "execution_count": null,
   "id": "f1a2ec89",
   "metadata": {},
   "outputs": [],
   "source": [
    "from transformers import AutoTokenizer, AutoModelForTokenClassification\n",
    "from transformers import pipeline\n",
    "\n",
    "tokenizer = AutoTokenizer.from_pretrained(\"Davlan/distilbert-base-multilingual-cased-ner-hrl\")\n",
    "model = AutoModelForTokenClassification.from_pretrained(\"Davlan/distilbert-base-multilingual-cased-ner-hrl\")\n",
    "#The aggregation strategy combines all of the tokens with a given label. Useful when our tokenizer uses subword tokens.\n",
    "nlp = pipeline(\"ner\", model=model, tokenizer=tokenizer, aggregation_strategy='simple')"
   ]
  },
  {
   "cell_type": "markdown",
   "id": "0d8f040e",
   "metadata": {},
   "source": [
    "Next, we'll use the tokenizer to preprocess our example sentence."
   ]
  },
  {
   "cell_type": "code",
   "execution_count": null,
   "id": "135fb783",
   "metadata": {},
   "outputs": [],
   "source": [
    "example = \"Nader Jokhadar had given Syria the lead with a well-struck header in the seventh minute.\"\n",
    "ner_results = nlp(example)\n",
    "for result in ner_results:\n",
    "  print(result)"
   ]
  },
  {
   "cell_type": "markdown",
   "id": "6b45f843",
   "metadata": {},
   "source": [
    "LLMs are highly performant at not just one, but a variety of tasks. And there are many versions of LLMs, designed to perform well on a variety of tasks available on HuggingFace.\n",
    "\n",
    "We could use this existing model for research purposes as is. We might use an existing NER model to find examples of the most common locations in a set of fiction. You could categorize product reviews as positive or negative automatically using sentiment analysis. You could automatically translate documents from one language to another.\n",
    "\n",
    "There are many possible tasks that LLMs can handle!\n",
    "\n",
    "### Why Fine Tune?\n",
    "\n",
    "Given that there are many many prebuilt models for BERT, why would you want to go through the trouble of fine tuning your own?\n",
    "\n",
    "LLM's are very robust. They aren't just capable of doing tasks other people have already trained them for. LLMs can also do specific and novel tasks you might want to accomplish as part of research!\n",
    "\n",
    "Imagine using a LLM to classify a group of documents using training data you create. Or imagine an LLM pulling out specific types of words based on examples you provide. LLM's can be trained to do these specific tasks fairly well, without needing terabytes of data to do so.\n",
    "\n",
    "Let's take a look on how we fine tune an LLM on a novel task by walking through an example.\n",
    "\n",
    "## The Interpretive Loop\n",
    "\n",
    "To fine-tune, we will walk through all of the steps of our interpretive loop diagram. Let's take a look at our diagram once more:\n",
    "\n",
    "![BERT fine-tune](https://raw.githubusercontent.com/carpentries-incubator/python-text-analysis/main/images/01-Interpretive_Loop.JPG)\n",
    "\n",
    "If no existing model does a given task, we can fine-tune a LLM to do it. How do we start? We're going to create versions of all the items listed in our diagram.\n",
    "\n",
    "We need the following:\n",
    "1. A task, so we can find a model and LLM pipeline to finetune.\n",
    "2. A dataset for our task, properly formatted in a way BERT can interpret.\n",
    "3. A tokenizer and helpers to preprocess our data in a way BERT expects.\n",
    "3. A model that has been pretrained on millions of documents for us. We will only fine-tune this model, not recreate it from scratch.\n",
    "4. A trainer to fine-tune our model to perform our task.\n",
    "5. A set of metrics so that we can evaluate how well our model performs.\n",
    "\n",
    "The final product of all this work will be a fine-tuned model that classifies all the elements of reviews that we want. Let's get started!\n",
    "\n",
    "## NLP task\n",
    "The first thing we can do is identify our task. Suppose our research question is to look carefully at different elements of restaurant reviews. We want to classify different elements of restaurant reviews, such as amenities, locations, ratings, cuisine types and so on using an LLM.\n",
    "\n",
    "Our task here is Token Classification, or more specifically, Named Entity Recognition. Classifying tokens will enable us to pull out categories that are of interest to us.\n",
    "\n",
    "The standard set of Named Entity Recognition labels is designed to be broad: people, organizations and so on. However, it doesn't have to be. We can define our own entities of interest and have our model search for them.\n",
    "\n",
    "Now that we have an idea of what we're aiming to do, lets look at some of the LLMs provided by HuggingFace that perform this activity. HuggingFace hosts many instructional Colab notebooks available at: <https://huggingface.co/docs/transformers/notebooks>.\n",
    "\n",
    "We can find an example of Token Classification using PyTorch there. This document will be the basis for our code.\n",
    "\n",
    "## Examining Working Example\n",
    "\n",
    "Looking at the notebook, we can get an idea of how it functions and adapt it for our own purposes.\n",
    "\n",
    "1. The existing model it uses is a compressed version of BERT, \"distilbert.\" While not as accurate as the full BERT model, it is smaller and easier to fine tune. We'll use this model as well.\n",
    "2. The existing dataset for our task is something called \"conll2003\". We will want to look at this and replace it with our own data, taking care to copy the formatting of existing data.\n",
    "3. The existing tokenizer requires a special helper method called an aligner. We will copy this directly.\n",
    "4. The existing model that we will tweak to accomplish our task.\n",
    "5. A trainer, which will largely use existing parameters. We will need to tweak our output labels for our new data.\n",
    "6. The existing metrics will be fine, but we have to feed them into our trainer.\n",
    "\n",
    "\n",
    "## Creating training data\n",
    "\n",
    "It's a good idea to pattern your data output based on what the model is expecting. You will need to make adjustments, but if you have selected a model that is appropriate to the task you can reuse most of the code already in place. We'll start by installing our dependencies.\n",
    "\n",
    "Now, let's take a look at the example data from the dataset used in the example. The dataset used is called the CoNLL2003 dataset."
   ]
  },
  {
   "cell_type": "code",
   "execution_count": null,
   "id": "48417b7f",
   "metadata": {},
   "outputs": [],
   "source": [
    "from datasets import load_dataset, load_metric\n",
    "\n",
    "ds = load_dataset(\"conll2003\", trust_remote_code=True)\n",
    "print(ds)"
   ]
  },
  {
   "cell_type": "markdown",
   "id": "3ca9d6bb",
   "metadata": {},
   "source": [
    "We can see that the CONLL dataset is split into three sets- training data, validation data, and test data. Training data should make up about 80% of your corpus and is fed into the model to fine tune it. Validation data should be about 10%, and is used to check how the training progress is going as the model is trained. The test data is about 10% withheld until the model is fully trained and ready for testing, so you can see how it handles new documents that the model has never seen before.\n",
    "\n",
    "Let's take a closer look at a record in the train set so we can get an idea of what our data should look like. The NER tags are the ones we are interested in, so lets print them out and take a look. We'll also select the dataset and then an index for the document to look at an example."
   ]
  },
  {
   "cell_type": "code",
   "execution_count": null,
   "id": "5c49e2c9",
   "metadata": {},
   "outputs": [],
   "source": [
    "traindoc = ds[\"train\"][0]\n",
    "conll_tags = ds[\"train\"].features[f\"ner_tags\"].feature.names\n",
    "\n",
    "print(traindoc['tokens'])\n",
    "print(traindoc['ner_tags'])\n",
    "print(conll_tags)\n",
    "print()\n",
    "\n",
    "for token, ner_tag in zip(traindoc['tokens'], traindoc['ner_tags']):\n",
    "  print(token+\" \"+conll_tags[ner_tag])"
   ]
  },
  {
   "cell_type": "markdown",
   "id": "ae024a1d",
   "metadata": {},
   "source": [
    "Each document has it's own ID number. We can see that the tokens are a list of words in the document. For each word in the tokens, there are a series of numbers. Those numbers correspond to the labels in the database. Based on this, we can see that the EU is recognized as an ORG and the terms \"German\" and \"British\" are labelled as MISC.\n",
    "\n",
    "These datasets are loaded using specially written loading scripts. We can look at this script by searching for the 'conll2003' in huggingface and selecting \"Files\". The loading script is always named after the dataset. In this case it is \"conll2003.py\".\n",
    "\n",
    "https://huggingface.co/datasets/conll2003/blob/main/conll2003.py\n",
    "\n",
    "Opening this file up, we can see that a zip file is downloaded and text files are extracted. We can manually download this ourselves if we would really like to take a closer look. For the sake of convienence, the example we looked just looked at is reproduced below:"
   ]
  },
  {
   "cell_type": "code",
   "execution_count": null,
   "id": "ae1a56dd",
   "metadata": {},
   "outputs": [],
   "source": [
    "\"\"\"\n",
    "-DOCSTART- -X- -X- O\n",
    "\n",
    "EU NNP B-NP B-ORG\n",
    "rejects VBZ B-VP O\n",
    "German JJ B-NP B-MISC\n",
    "call NN I-NP O\n",
    "to TO B-VP O\n",
    "boycott VB I-VP O\n",
    "British JJ B-NP B-MISC\n",
    "lamb NN I-NP O\n",
    ". . O O\n",
    "\"\"\""
   ]
  },
  {
   "cell_type": "markdown",
   "id": "aa24d88b",
   "metadata": {},
   "source": [
    "This is a simple format, similar to a CSV. Each document is seperated by a blank line. The token we look at is first, then space seperated tags for POS, chunk_tags and NER tags. Many of the token classifications use BIO tagging, which specifies that \"B\" is the beginning of a tag, \"I\" is inside a tag, and \"O\" means that the token outside of our tagging schema.\n",
    "\n",
    "So, now that we have an idea of what the HuggingFace models expect, let's start thinking about how we can create our own set of data and labels.\n",
    "\n",
    "## Tagging a dataset\n",
    "\n",
    "Most of the human time spent training a model will be spent pre-processing and labelling data. If we expect our model to label data with an arbitrary set of labels, we need to give it some idea of what to look for. We want to make sure we have enough data for the model to perform at a good enough degree of accuracy for our purpose. Of course, this number will vary based on what level of performance is \"good enough\" and the difficulty of the task. While there's no set number, a set of approximately 100,000 tokens is enough to train many NER tasks.\n",
    "\n",
    "Fortunately, software exists to help streamline the tagging process. One open source example of tagging software is Label Studio. However, it's not the only option, so feel free to select a data labelling software that matches your preferences or needs for a given project. An online demo of Label Studio is available here:\n",
    "https://labelstud.io/playground. It's also possible to install locally.\n",
    "\n",
    "Select \"Named Entity Recognition\" as the task to see what the interface would look like if we were doing our own tagging. We can define our own labels by copying in the following code (minus the quotations):"
   ]
  },
  {
   "cell_type": "code",
   "execution_count": null,
   "id": "6462e41b",
   "metadata": {},
   "outputs": [],
   "source": [
    "\"\"\"\n",
    "<View>\n",
    "  <Labels name=\"label\" toName=\"text\">\n",
    "    <Label value=\"Amenity\" background=\"red\"/>\n",
    "    <Label value=\"Cuisine\" background=\"darkorange\"/>\n",
    "    <Label value=\"Dish\" background=\"orange\"/>\n",
    "    <Label value=\"Hours\" background=\"green\"/>\n",
    "    <Label value=\"Location\" background=\"darkblue\"/>\n",
    "    <Label value=\"Price\" background=\"blue\"/>\n",
    "    <Label value=\"Rating\" background=\"purple\"/>\n",
    "    <Label value=\"Restaurant_Name\" background=\"#842\"/>\n",
    "  </Labels>\n",
    "\n",
    "  <Text name=\"text\" value=\"$text\"/>\n",
    "</View>\n",
    "\"\"\""
   ]
  },
  {
   "cell_type": "markdown",
   "id": "eb7a8eb4",
   "metadata": {},
   "source": [
    "In Label Studio, labels can be applied by hitting a number on your keyboard and highlighting the relevant part of the document. Try doing so on our example text and looking at the output.\n",
    "\n",
    "Once done, we will have to export our files for use in our model. Label Studio supports a number of different types of labelling tasks, so you may want to use it for tasks other than just NER.\n",
    "\n",
    "One additional note: There is a github project for direct integration between label studio and HuggingFace available as well. Given that the task selected may vary on the model and you may not opt to use Label Studio for a given project, we will simply point to this project as a possible resource (https://github.com/heartexlabs/label-studio-transformers) rather than use it in this lesson.\n",
    "\n",
    "\n",
    "\n",
    "## Export to desired format\n",
    "\n",
    "So, let's say you've finished your tagging project. How do we get these labels out of label studio and into our model?\n",
    "\n",
    "Label Studio supports export into many formats, including one called CoNLL2003. This is the format our test dataset is in. It's a space seperated CSV, with words and their tags.\n",
    "\n",
    "We'll skip the export step as well, as we already have a prelabeled set of tags in a similar format published by MIT. For more details about supported export formats consult the help page for Label Studio here: https://labelstud.io/guide/export.html\n",
    "\n",
    "At this point, we've got all the labelled data we want. We now need to load our dataset into HuggingFace and then train our model. The following code will be largely based on the example code from HuggingFace, substituting in our data for the CoNLL data.\n",
    "\n",
    "## Loading our custom dataset\n",
    "\n",
    "Let's import our carpentries files and helper methods first, as they contain our data and a loading script."
   ]
  },
  {
   "cell_type": "code",
   "execution_count": null,
   "id": "29bb67fd",
   "metadata": {},
   "outputs": [],
   "source": [
    "# Run this cell to mount your Google Drive.\n",
    "from google.colab import drive\n",
    "drive.mount('/content/drive')"
   ]
  },
  {
   "cell_type": "code",
   "execution_count": null,
   "id": "290e47c0",
   "metadata": {},
   "outputs": [],
   "source": [
    "# pip install necessary to access parse module (called from helpers.py)\n",
    "!pip install parse"
   ]
  },
  {
   "cell_type": "markdown",
   "id": "a8eaf52a",
   "metadata": {},
   "source": [
    "Finally, lets make our own tweaks to the HuggingFace colab notebook. We'll start by importing some key metrics."
   ]
  },
  {
   "cell_type": "code",
   "execution_count": null,
   "id": "a4f13d17",
   "metadata": {},
   "outputs": [],
   "source": [
    "import datasets\n",
    "from datasets import load_dataset, Features"
   ]
  },
  {
   "cell_type": "markdown",
   "id": "75f70795",
   "metadata": {},
   "source": [
    "The HuggingFace example uses [CONLL 2003 dataset](https://www.aclweb.org/anthology/W03-0419.pdf).\n",
    "\n",
    "All datasets from huggingface are loaded using scripts. Datasets can be defined from a JSON or csv file (see the [Datasets documentation](https://huggingface.co/docs/datasets/loading_datasets.html#from-local-files)) but selecting CSV will by default create a new document for every token and NER tag and will not load the documents correctly. So we will use a tweaked version of the Conll loading script instead. Let's take a look at the regular Conll script first:\n",
    "\n",
    "https://huggingface.co/datasets/conll2003/tree/main\n",
    "\n",
    "The loading script is the python file. Usually the loading script is named after the dataset in question. There are a couple of things we want to change-\n",
    "\n",
    "1.   We want to tweak the metadata with citations to reflect where we got our data. If you created the data, you can add in your own citation here.\n",
    "2.   We want to define our own categories for NER_TAGS, to reflect our new named entities.\n",
    "3.   The order for our tokens and NER tags is flipped in our data files.\n",
    "4.   Delimiters for our data files are tabs instead of spaces.\n",
    "5.   We will replace the method names with ones appropriate for our dataset.\n",
    "\n",
    "Those modifications have been made in our mit_restaurants.py file. Let's briefly take a look at that file before we proceed with the huggingface script. Again, these are modifications, not working from scratch.\n",
    "\n",
    "## HuggingFace Code\n",
    "\n",
    "Now that we have a modified huggingface script, let's load our data."
   ]
  },
  {
   "cell_type": "code",
   "execution_count": null,
   "id": "c8d466ad",
   "metadata": {},
   "outputs": [],
   "source": [
    "ds = load_dataset(\"/content/drive/MyDrive/Colab Notebooks/text-analysis/code/mit_restaurants.py\", trust_remote_code=True)"
   ]
  },
  {
   "cell_type": "markdown",
   "id": "185f5c65",
   "metadata": {},
   "source": [
    "How does our dataset compare to the CONLL dataset? Let's look at a record and compare."
   ]
  },
  {
   "cell_type": "code",
   "execution_count": null,
   "id": "e8266884",
   "metadata": {},
   "outputs": [],
   "source": [
    "ds"
   ]
  },
  {
   "cell_type": "code",
   "execution_count": null,
   "id": "7cb6b12c",
   "metadata": {},
   "outputs": [],
   "source": [
    "label_list = ds[\"train\"].features[f\"ner_tags\"].feature.names\n",
    "label_list"
   ]
  },
  {
   "cell_type": "markdown",
   "id": "5376610b",
   "metadata": {},
   "source": [
    "Our data looks pretty similar to the CONLL data now. This is good since we can now reuse many of the methods listed by HuggingFace in their Colab notebook.\n",
    "\n",
    "## Preprocessing the data\n",
    "\n",
    "We start by defining some variables that HuggingFace uses later on."
   ]
  },
  {
   "cell_type": "code",
   "execution_count": null,
   "id": "8bfcbf99",
   "metadata": {},
   "outputs": [],
   "source": [
    "import torch\n",
    "\n",
    "task = \"ner\" # Should be one of \"ner\", \"pos\" or \"chunk\"\n",
    "model_checkpoint = \"distilbert-base-uncased\"\n",
    "batch_size = 16\n",
    "device = torch.device(\"cuda\" if torch.cuda.is_available() else \"cpu\")"
   ]
  },
  {
   "cell_type": "markdown",
   "id": "50f2876e",
   "metadata": {},
   "source": [
    "Next, we create our special BERT tokenizer."
   ]
  },
  {
   "cell_type": "code",
   "execution_count": null,
   "id": "4afaaeb2",
   "metadata": {},
   "outputs": [],
   "source": [
    "from transformers import AutoTokenizer\n",
    "tokenizer = AutoTokenizer.from_pretrained(model_checkpoint)"
   ]
  },
  {
   "cell_type": "code",
   "execution_count": null,
   "id": "d95ab76e",
   "metadata": {},
   "outputs": [],
   "source": [
    "example = ds[\"train\"][4]\n",
    "tokenized_input = tokenizer(example[\"tokens\"], is_split_into_words=True)\n",
    "tokens = tokenizer.convert_ids_to_tokens(tokenized_input[\"input_ids\"])\n",
    "print(tokens)"
   ]
  },
  {
   "cell_type": "markdown",
   "id": "51d850e6",
   "metadata": {},
   "source": [
    "Since our words are broken into just words, and the BERT tokenizer sometimes breaks words into subwords, we need to retokenize our words. We also need to make sure that when we do this, the labels we created don't get misaligned. More details on these methods are available through HuggingFace, but we will simply use their code to do this."
   ]
  },
  {
   "cell_type": "code",
   "execution_count": null,
   "id": "18725e27",
   "metadata": {},
   "outputs": [],
   "source": [
    "word_ids = tokenized_input.word_ids()\n",
    "aligned_labels = [-100 if i is None else example[f\"{task}_tags\"][i] for i in word_ids]\n",
    "label_all_tokens = True"
   ]
  },
  {
   "cell_type": "code",
   "execution_count": null,
   "id": "5c40fd93",
   "metadata": {},
   "outputs": [],
   "source": [
    "def tokenize_and_align_labels(examples):\n",
    "    tokenized_inputs = tokenizer(examples[\"tokens\"], truncation=True, is_split_into_words=True)\n",
    "\n",
    "    labels = []\n",
    "    for i, label in enumerate(examples[f\"{task}_tags\"]):\n",
    "        word_ids = tokenized_inputs.word_ids(batch_index=i)\n",
    "        previous_word_idx = None\n",
    "        label_ids = []\n",
    "        for word_idx in word_ids:\n",
    "            # Special tokens have a word id that is None. We set the label to -100 so they are automatically\n",
    "            # ignored in the loss function.\n",
    "            if word_idx is None:\n",
    "                label_ids.append(-100)\n",
    "            # We set the label for the first token of each word.\n",
    "            elif word_idx != previous_word_idx:\n",
    "                label_ids.append(label[word_idx])\n",
    "            # For the other tokens in a word, we set the label to either the current label or -100, depending on\n",
    "            # the label_all_tokens flag.\n",
    "            else:\n",
    "                label_ids.append(label[word_idx] if label_all_tokens else -100)\n",
    "            previous_word_idx = word_idx\n",
    "\n",
    "        labels.append(label_ids)\n",
    "\n",
    "    tokenized_inputs[\"labels\"] = labels\n",
    "    return tokenized_inputs"
   ]
  },
  {
   "cell_type": "code",
   "execution_count": null,
   "id": "efcfda25",
   "metadata": {},
   "outputs": [],
   "source": [
    "tokenized_datasets = ds.map(tokenize_and_align_labels, batched=True)\n",
    "print(tokenized_datasets)"
   ]
  },
  {
   "cell_type": "markdown",
   "id": "1e356914",
   "metadata": {},
   "source": [
    "The preprocessed features we've just added will be the ones used to actually train the model.\n",
    "\n",
    "## Fine-tuning the model\n",
    "\n",
    "Now that our data is ready, we can download the pretrained LLM model. Since our task is token classification, we use the `AutoModelForTokenClassification` class. Before we do though, we want to specify the mapping for ids and labels to our model so it does not simply return CLASS_1, CLASS_2 and so on."
   ]
  },
  {
   "cell_type": "code",
   "execution_count": null,
   "id": "9c3dfec9",
   "metadata": {},
   "outputs": [],
   "source": [
    "id2label = {\n",
    "    0: \"O\",\n",
    "    1: \"B-Amenity\",\n",
    "    2: \"I-Amenity\",\n",
    "    3: \"B-Cuisine\",\n",
    "    4: \"I-Cuisine\",\n",
    "    5: \"B-Dish\",\n",
    "    6: \"I-Dish\",\n",
    "    7: \"B-Hours\",\n",
    "    8: \"I-Hours\",\n",
    "    9: \"B-Location\",\n",
    "    10: \"I-Location\",\n",
    "    11: \"B-Price\",\n",
    "    12: \"I-Price\",\n",
    "    13: \"B-Rating\",\n",
    "    14: \"I-Rating\",\n",
    "    15: \"B-Restaurant_Name\",\n",
    "    16: \"I-Restaurant_Name\",\n",
    "}\n",
    "\n",
    "label2id = {\n",
    "    \"O\": 0,\n",
    "    \"B-Amenity\": 1,\n",
    "    \"I-Amenity\": 2,\n",
    "    \"B-Cuisine\": 3,\n",
    "    \"I-Cuisine\": 4,\n",
    "    \"B-Dish\": 5,\n",
    "    \"I-Dish\": 6,\n",
    "    \"B-Hours\": 7,\n",
    "    \"I-Hours\": 8,\n",
    "    \"B-Location\": 9,\n",
    "    \"I-Location\": 10,\n",
    "    \"B-Price\": 11,\n",
    "    \"I-Price\": 12,\n",
    "    \"B-Rating\": 13,\n",
    "    \"I-Rating\": 14,\n",
    "    \"B-Restaurant_Name\": 15,\n",
    "    \"I-Restaurant_Name\": 16,\n",
    "}"
   ]
  },
  {
   "cell_type": "code",
   "execution_count": null,
   "id": "d8ce0cf6",
   "metadata": {},
   "outputs": [],
   "source": [
    "from transformers import AutoModelForTokenClassification, TrainingArguments, Trainer\n",
    "\n",
    "model = AutoModelForTokenClassification.from_pretrained(model_checkpoint, id2label=id2label, label2id=label2id, num_labels=len(label_list)).to(device)"
   ]
  },
  {
   "cell_type": "markdown",
   "id": "052ea6fe",
   "metadata": {},
   "source": [
    "Some weights of DistilBertForTokenClassification were not initialized from the model checkpoint at distilbert-base-uncased and are newly initialized: ['classifier.bias', 'classifier.weight']\n",
    "    You should probably TRAIN this model on a down-stream task to be able to use it for predictions and inference.\n",
    "\n",
    "\n",
    "The warning is telling us we are throwing away some weights. We're training our model, so we should be fine.\n",
    "\n",
    "##Configuration Arguments\n",
    "\n",
    "Next, we configure our trainer. The are lots of settings here but the defaults are fine. More detailed documentation on what each of these mean are available through Huggingface:  [`TrainingArguments`](https://huggingface.co/transformers/main_classes/trainer.html#transformers.TrainingArguments),"
   ]
  },
  {
   "cell_type": "code",
   "execution_count": null,
   "id": "1d2e9add",
   "metadata": {},
   "outputs": [],
   "source": [
    "model_name = model_checkpoint.split(\"/\")[-1]\n",
    "args = TrainingArguments(\n",
    "    #f\"{model_name}-finetuned-{task}\",\n",
    "    f\"{model_name}-carpentries-restaurant-ner\",\n",
    "    learning_rate=2e-5,\n",
    "    per_device_train_batch_size=batch_size,\n",
    "    per_device_eval_batch_size=batch_size,\n",
    "    num_train_epochs=3,\n",
    "    weight_decay=0.01,\n",
    "    report_to=\"none\",\n",
    "    eval_strategy=\"epoch\",\n",
    "    save_strategy=\"epoch\",\n",
    "    load_best_model_at_end=True,\n",
    "    push_to_hub=False, #You can have your model automatically pushed to HF if you uncomment this and log in.\n",
    ")"
   ]
  },
  {
   "cell_type": "markdown",
   "id": "0ab7465b",
   "metadata": {},
   "source": [
    "## Collator\n",
    "\n",
    "One finicky aspect of the model is that all of the inputs have to be the same size. When the sizes do not match, something called a data collator is used to batch our processed examples together and pad them to the same size."
   ]
  },
  {
   "cell_type": "code",
   "execution_count": null,
   "id": "782b8de2",
   "metadata": {},
   "outputs": [],
   "source": [
    "from transformers import DataCollatorForTokenClassification\n",
    "\n",
    "data_collator = DataCollatorForTokenClassification(tokenizer)"
   ]
  },
  {
   "cell_type": "markdown",
   "id": "e9fe0a04",
   "metadata": {},
   "source": [
    "## Metrics\n",
    "\n",
    "The last thing we want to define is the metric by which we evaluate how our model did. We will use [`seqeval`](https://github.com/chakki-works/seqeval). The metric used will vary based on the task- make sure to check the huggingface notebooks for the appropriate metric for a given task."
   ]
  },
  {
   "cell_type": "code",
   "execution_count": null,
   "id": "c098aa63",
   "metadata": {},
   "outputs": [],
   "source": [
    "import evaluate\n",
    "\n",
    "seqeval = evaluate.load(\"seqeval\")"
   ]
  },
  {
   "cell_type": "markdown",
   "id": "da40c305",
   "metadata": {},
   "source": [
    "## Post Processing\n",
    "\n",
    "Per HuggingFace- we need to do a bit of post-processing on our predictions. The following function and description is taken directly from HuggingFace. The function does the following:\n",
    "- Selected the predicted index (with the maximum logit) for each token\n",
    "- Converts it to its string label\n",
    "- Ignore everywhere we set a label of -100"
   ]
  },
  {
   "cell_type": "code",
   "execution_count": null,
   "id": "55c8eb6e",
   "metadata": {},
   "outputs": [],
   "source": [
    "import numpy as np\n",
    "\n",
    "def compute_metrics(p):\n",
    "    predictions, labels = p\n",
    "    predictions = np.argmax(predictions, axis=2)\n",
    "\n",
    "    # Remove ignored index (special tokens)\n",
    "    true_predictions = [\n",
    "        [label_list[p] for (p, l) in zip(prediction, label) if l != -100]\n",
    "        for prediction, label in zip(predictions, labels)\n",
    "    ]\n",
    "    true_labels = [\n",
    "        [label_list[l] for (p, l) in zip(prediction, label) if l != -100]\n",
    "        for prediction, label in zip(predictions, labels)\n",
    "    ]\n",
    "\n",
    "    results = metric.compute(predictions=true_predictions, references=true_labels)\n",
    "    return {\n",
    "        \"precision\": results[\"overall_precision\"],\n",
    "        \"recall\": results[\"overall_recall\"],\n",
    "        \"f1\": results[\"overall_f1\"],\n",
    "        \"accuracy\": results[\"overall_accuracy\"],\n",
    "    }"
   ]
  },
  {
   "cell_type": "markdown",
   "id": "5ecad6fd",
   "metadata": {},
   "source": [
    "Finally, after all of the preparation we've done, we're ready to create a Trainer to train our model."
   ]
  },
  {
   "cell_type": "code",
   "execution_count": null,
   "id": "6f0fc0c0",
   "metadata": {},
   "outputs": [],
   "source": [
    "trainer = Trainer(\n",
    "    model,\n",
    "    args,\n",
    "    train_dataset=tokenized_datasets[\"train\"],\n",
    "    eval_dataset=tokenized_datasets[\"validation\"],\n",
    "    data_collator=data_collator,\n",
    "    tokenizer=tokenizer,\n",
    "    compute_metrics=compute_metrics,\n",
    ")"
   ]
  },
  {
   "cell_type": "markdown",
   "id": "ffb14497",
   "metadata": {},
   "source": [
    "We can now finetune our model by just calling the `train` method. Note that this step will take about 5 minutes if you are running it on a GPU, and 4+ hours if you are not."
   ]
  },
  {
   "cell_type": "code",
   "execution_count": null,
   "id": "dd073a3d",
   "metadata": {},
   "outputs": [],
   "source": [
    "print(\"Training starts NOW\")\n",
    "trainer.train()"
   ]
  },
  {
   "cell_type": "markdown",
   "id": "041abcb3",
   "metadata": {},
   "source": [
    "We've done it! We've fine-tuned the model for our task. Now that it's trained, we want to save our work so that we can reuse the model whenever we wish. A saved version of this model has also been published through huggingface, so if you are using a CPU, skip the remaining evaluation steps and launch a new terminal so you can participate in the"
   ]
  },
  {
   "cell_type": "code",
   "execution_count": null,
   "id": "ed184750",
   "metadata": {},
   "outputs": [],
   "source": [
    "trainer.save_model(\"/content/drive/MyDrive/Colab Notebooks/text-analysis/ft-model\")"
   ]
  },
  {
   "cell_type": "markdown",
   "id": "b6b0fa2b",
   "metadata": {},
   "source": [
    "## Evaluation Metrics for NER\n",
    "We have some NER evaluation metrics, so let's discuss what they mean. Accuracy is the most obvious metric for NER. Accuracy is the number of correctly labelled entities divided by the number of total entities. The problem with this metric can be illustrated by supposing we want a model to identify a needle in a haystack. A model that identifies everything as hay would be highly accurate, as most of the entities in a haystack ARE hay, but it wouldn't allow us to find the rare needles we're looking for. Similarly, our named entities will likely not make up most of our documents, so accuracy is not a good metric.\n",
    "\n",
    "We can classify recommendations made by a model into four categories- true positive, true negative, false positive and false negative.\n",
    "\n",
    "|  | Document is in our category | Document is not in our category |\n",
    "| ---------- | ----------- | ----------- |\n",
    "| Model predicts it is in our category| True Positive (TP) | False Positive (FP)|\n",
    "| Model predicts it is not in category | False Negative (FN)| True Negative (TN)|\n",
    "\n",
    "__Precision__ is TP / TP + FP. It measures how correct your model's labels were among the set of entities the model predicted were part of the class. This measure could be gamed, however, by being very conservative about making positive labels and only doing so when the model was absolutely certain, possibly missing relevant entities.\n",
    "\n",
    "__Recall__ is TP / TP + FN. It measures how correct your model's labels are among the set of every entity actually belonging to the class. Recall could be trivally gamed by simply classify all documents as being part of the class.\n",
    "\n",
    "The __F1__ score is a harmonic mean between the two, ensuring the model is neither too conservative or too prone to overclassification.\n",
    "\n",
    "Now let's see how our model did. We'll run a more detailed evaluation step from HuggingFace if desired, to see how well our model performed. It is likely a good idea to have these metrics so that you can compare your performance to more generic models for the task."
   ]
  },
  {
   "cell_type": "code",
   "execution_count": null,
   "id": "eb40a8a4",
   "metadata": {},
   "outputs": [],
   "source": [
    "from evaluate import evaluator\n",
    "\n",
    "task_evaluator = evaluator(\"ner\")\n",
    "data= load_dataset(\"/content/drive/MyDrive/Colab Notebooks/text-analysis/code/mit_restaurants.py\", split=\"test\", trust_remote_code=True)\n",
    "\n",
    "eval_results = task_evaluator.compute(\n",
    "    model_or_pipeline=\"/content/drive/MyDrive/Colab Notebooks/text-analysis/ft-model\",\n",
    "    data=data,\n",
    ")"
   ]
  },
  {
   "cell_type": "code",
   "execution_count": null,
   "id": "685d3e39",
   "metadata": {},
   "outputs": [],
   "source": [
    "for r in eval_results:\n",
    "  print(r, eval_results[r])"
   ]
  },
  {
   "cell_type": "markdown",
   "id": "d425d3d2",
   "metadata": {},
   "source": [
    "Whether a F1 score of .779 is 'good enough' depends on the performance of other models, how difficult the task is, and so on. It may be good enough for our needs, or we may want to collect more data, train on a bigger model, or adjust our parameters. For the purposes of the workshop, we will say that this is fine.\n",
    "\n",
    "## Using our Model\n",
    "\n",
    "Now that we've created our model, we can run it just like we did the pretrained models. The code below should do just that. Feel free to compose your own example and see how well the model performs!"
   ]
  },
  {
   "cell_type": "code",
   "execution_count": null,
   "id": "30489953",
   "metadata": {},
   "outputs": [],
   "source": [
    "from transformers import pipeline\n",
    "from transformers import AutoModelForTokenClassification\n",
    "from transformers import AutoTokenizer\n",
    "from transformers import TokenClassificationPipeline\n",
    "import torch\n",
    "\n",
    "#Colab code\n",
    "tokenizer = AutoTokenizer.from_pretrained(\"distilbert-base-uncased\")\n",
    "model = AutoModelForTokenClassification.from_pretrained(\"/content/drive/MyDrive/Colab Notebooks/text-analysis/ft-model\")\n",
    "nlp = pipeline(\"ner\", model=model, tokenizer=tokenizer, aggregation_strategy=\"first\")\n",
    "\n",
    "#This code imports this model, which I've uploaded to HuggingFace.\n",
    "#tokenizer = AutoTokenizer.from_pretrained(\"karlholten/distilbert-carpentries-restaurant-ner\")\n",
    "#model = AutoModelForTokenClassification.from_pretrained(\"karlholten/distilbert-carpentries-restaurant-ner\")"
   ]
  },
  {
   "cell_type": "code",
   "execution_count": null,
   "id": "20dcc259",
   "metadata": {},
   "outputs": [],
   "source": [
    "EXAMPLE = \"where is a four star restaurant in milwaukee with tapas\"\n",
    "ner_results = nlp(EXAMPLE)\n",
    "for entity in ner_results:\n",
    "  print(entity)"
   ]
  },
  {
   "cell_type": "markdown",
   "id": "dc2aec92",
   "metadata": {},
   "source": [
    "##  Outro\n",
    "\n",
    "That's it! Let's review briefly what we have done. We've discussed how to select a task. We used a HuggingFace example to help decide on a data format, and looked over it to get an idea of what the model expects. We went over Label Studio, one way to label your own data. We retokenized our example data and fine-tuned a model. Then we went over the results of our model.\n",
    "\n",
    "LLM's are the state-of-the-art for many types of task, and now you have an idea of how to use and even fine tune them in your own research. Our next lesson will discuss the ethics and implications of text analysis."
   ]
  }
 ],
 "metadata": {},
 "nbformat": 4,
 "nbformat_minor": 5
}
