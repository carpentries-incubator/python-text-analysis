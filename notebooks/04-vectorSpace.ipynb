{
 "cells": [
  {
   "cell_type": "markdown",
   "id": "e9b8f57f",
   "metadata": {},
   "source": [
    "# Vector Space and Distance"
   ]
  },
  {
   "cell_type": "markdown",
   "id": "668535a3",
   "metadata": {},
   "source": [
    "# Vector Space\n",
    "Now that we've preprocessed our data, let's move to the next step of the interpretative loop: *generating a text embedding*.\n",
    "\n",
    "![The Interpretive Loop](https://raw.githubusercontent.com/carpentries-incubator/python-text-analysis/main/images/01-Interpretive_Loop.JPG)\n",
    "\n",
    "Many NLP models make use of a concept called Vector Space. The concept works like this:\n",
    "\n",
    "1. We create **embeddings**, or mathematical surrogates, of words and documents in vector space. These embeddings can be represented as sets of coordinates in multidimensional space, or as multi-dimensional matrices.\n",
    "2. These embeddings should be based on some sort of **feature extraction**, meaning that meaningful features from our original documents are somehow represented in our embedding. This will make it so that relationships between embeddings in this vector space will correspond to relationships in the actual documents.\n",
    "\n",
    "## Bags of Words\n",
    "\n",
    "In the models we'll look at today, we have a **\"bag of words\"** assumption as well. We will not consider the placement of words in sentences, their context, or their conjugation into different forms (run vs ran), not until later in this course.\n",
    "\n",
    "A \"bag of words\" model is like putting all words from a sentence in a bag and just being concerned with how many of each word you have, not their order or context.\n",
    "\n",
    "### Worked Example: Bag of Words\n",
    "\n",
    "Let's suppose we want to model a small, simple set of toy documents. Our entire corpus of documents will only have two words, *to* and *be*. We have four documents, A, B, C and D:\n",
    "\n",
    "- A: be be be be be be be be be be to\n",
    "- B: to be to be to be to be to be to be to be to be\n",
    "- C: to to be be\n",
    "- D: to be to be\n",
    "\n",
    "We will start by embedding words using a \"one hot\" embedding algorithm. Each document is a new row in our table. Every time word 'to' shows up in a document, we add one to our value for the 'to' dimension for that row, and zero to every other dimension. Every time 'be' shows up in our document, we will add one to our value for the 'be' dimension for that row, and zero to every other dimension.\n",
    "\n",
    "How does this corpus look in vector space? We can display our model using a **document-term matrix**, which looks like the following:\n",
    "\n",
    "| Document   | to      | be |\n",
    "| ---------- | ----------- | ----------- |\n",
    "| Document A | 1 | 10 |\n",
    "| Document B | 8 | 8 |\n",
    "| Document C | 2 | 2 |\n",
    "| Document D | 2 | 2 |\n",
    "\n",
    "Notice that documents C and D are represented exactly the same. This is unavoidable right now because of our \"bag of words\" assumption, but much later on we will try to represent positions of words in our models as well. Let's visualize this using Python."
   ]
  },
  {
   "cell_type": "code",
   "execution_count": null,
   "id": "0cd00003",
   "metadata": {},
   "outputs": [],
   "source": [
    "import numpy as np\n",
    "import matplotlib.pyplot as plt"
   ]
  },
  {
   "cell_type": "code",
   "execution_count": null,
   "id": "47933c3c",
   "metadata": {},
   "outputs": [],
   "source": [
    "corpus = np.array([[1,10],[8,8],[2,2],[2,2]])\n",
    "print(corpus)"
   ]
  },
  {
   "cell_type": "markdown",
   "id": "61442a1d",
   "metadata": {},
   "source": [
    "### Graphing our model\n",
    "\n",
    "We don't just have to think of our words as columns. We can also think of them as dimensions, and the values as coordinates for each document."
   ]
  },
  {
   "cell_type": "code",
   "execution_count": null,
   "id": "9d4a80cd",
   "metadata": {},
   "outputs": [],
   "source": [
    "# matplotlib expects a list of values by column, not by row.\n",
    "# We can simply turn our table on its edge so rows become columns and vice versa.\n",
    "corpusT = np.transpose(corpus)\n",
    "print(corpusT)"
   ]
  },
  {
   "cell_type": "code",
   "execution_count": null,
   "id": "6114ed2e",
   "metadata": {},
   "outputs": [],
   "source": [
    "X = corpusT[0]\n",
    "Y = corpusT[1]\n",
    "# define some colors for each point. Since points A and B are the same, we'll have them as the same color.\n",
    "mycolors = ['r','g','b','b']\n",
    "\n",
    "# display our visualization\n",
    "plt.scatter(X,Y, c=mycolors)\n",
    "plt.xlim(0, 12)\n",
    "plt.ylim(0, 12)\n",
    "plt.show()"
   ]
  },
  {
   "cell_type": "markdown",
   "id": "b1bb4d3e",
   "metadata": {},
   "source": [
    "![Plot points](https://raw.githubusercontent.com/carpentries-incubator/python-text-analysis/main/images/02-plot-points.png)\n",
    "\n",
    "### Distance and Similarity\n",
    "\n",
    "What can we do with this simple model? At the heart of many research tasks is **distance** or **similarity**, in some sense. When we classify or search for documents, we are asking for documents that are \"close to\" some known examples or search terms. When we explore the topics in our documents, we are asking for a small set of concepts that capture and help explain as much as the ways our documents might differ from one another. And so on.\n",
    "\n",
    "There are two measures of distance/similarity we'll consider here: **Euclidean distance** and **cosine similarity**.\n",
    "\n",
    "#### Euclidean Distance\n",
    "\n",
    "The Euclidian distance formula makes use of the Pythagorean theorem, where $a^2 + b^2 = c^2$. We can draw a triangle between two points, and calculate the hypotenuse to find the distance. This distance formula works in two dimensions, but can also be generalized over as many dimensions as we want. Let's use distance to compare A to B, C and D. We'll say the closer two points are, the smaller their distance, so the more similar they are."
   ]
  },
  {
   "cell_type": "code",
   "execution_count": null,
   "id": "6a70e079",
   "metadata": {},
   "outputs": [],
   "source": [
    "from sklearn.metrics.pairwise import euclidean_distances as dist\n",
    "\n",
    "#What is closest to document D?\n",
    "D = [corpus[3]]\n",
    "print(D)"
   ]
  },
  {
   "cell_type": "code",
   "execution_count": null,
   "id": "4fd67ef4",
   "metadata": {},
   "outputs": [],
   "source": [
    "dist(corpus, D)"
   ]
  },
  {
   "cell_type": "markdown",
   "id": "363d5116",
   "metadata": {},
   "source": [
    "Distance may seem like a decent metric at first. Certainly, it makes sense that document D has zero distance from itself. C and D are also similar, which makes sense given our bag of words assumption. But take a closer look at documents B and D. Document B is just document D copy and pasted 4 times! How can it be less similar to document D than document B?\n",
    "\n",
    "Distance is highly sensitive to document length. Because document A is shorter than document B, it is closer to document D. While distance may be an intuitive measure of similarity, it is actually highly dependent on document length.\n",
    "\n",
    "We need a different metric that will better represent similarity. This is where vectors come in. Vectors are geometric objects with both length and direction. They can be thought of as a ray or an arrow pointing from one point to another.\n",
    "\n",
    "Vectors can be added, subtracted, or multiplied together, just like regular numbers can. Our model will consider documents as vectors instead of points, going from the origin at $(0,0)$ to each document. Let's visualize this."
   ]
  },
  {
   "cell_type": "code",
   "execution_count": null,
   "id": "72ec9f5a",
   "metadata": {},
   "outputs": [],
   "source": [
    "# we need the point of origin in order to draw a vector. Numpy has a function to create an array full of zeroes.\n",
    "origin = np.zeros([1,4])\n",
    "print(origin)"
   ]
  },
  {
   "cell_type": "code",
   "execution_count": null,
   "id": "7c40055f",
   "metadata": {},
   "outputs": [],
   "source": [
    "# draw our vectors\n",
    "plt.quiver(origin, origin, X, Y, color=mycolors, angles='xy', scale_units='xy', scale=1)\n",
    "plt.xlim(0, 12)\n",
    "plt.ylim(0, 12)\n",
    "plt.show()"
   ]
  },
  {
   "cell_type": "markdown",
   "id": "9121bc17",
   "metadata": {},
   "source": [
    "Document A and document D are headed in exactly the same direction, which matches our intution that both documents are in some way similar to each other, even though they differ in length.\n",
    "\n",
    "#### Cosine Similarity\n",
    "\n",
    "**Cosine Similarity** is a metric which is only concerned with the direction of the vector, not its length. This means the length of a document will no longer factor into our similarity metric. The more similar two vectors are in direction, the closer the cosine similarity score gets to 1. The more orthogonal two vectors get (the more at a right angle they are), the closer it gets to 0. And as the more they point in opposite directions, the closer it gets to -1.\n",
    "\n",
    "You can think of cosine similarity between vectors as signposts aimed out into multidimensional space. Two similar documents going in the same direction have a high cosine similarity, even if one of them is much further away in that direction.\n",
    "\n",
    "Now that we know what cosine similarity is, how does this metric compare our documents?"
   ]
  },
  {
   "cell_type": "code",
   "execution_count": null,
   "id": "0dc3d557",
   "metadata": {},
   "outputs": [],
   "source": [
    "from sklearn.metrics.pairwise import cosine_similarity as cs\n",
    "cs(corpus, D)"
   ]
  },
  {
   "cell_type": "markdown",
   "id": "ab6ba4af",
   "metadata": {},
   "source": [
    "Both A and D are considered similar by this metric. Cosine similarity is used by many models as a measure of similarity between documents and words.\n",
    "\n",
    "### Generalizing over more dimensions\n",
    "\n",
    "If we want to add another word to our model, we can add another dimension, which we can represent as another column in our table. Let's add more documents with new words in them.\n",
    "\n",
    "- E: be or not be\n",
    "- F: to be or not to be\n",
    "\n",
    "| Document | to | be | or | not |\n",
    "| ---------- | ----------- | ----------- | ----------- | ----------- |\n",
    "| Document A | 1 | 10 | 0 | 0\n",
    "| Document B | 8 | 8 | 0 | 0\n",
    "| Document C | 2 | 2 | 0 | 0\n",
    "| Document D | 2 | 2 | 0 | 0\n",
    "| Document E | 0 | 2 | 1 | 1\n",
    "| Document F | 2 | 2 | 1 | 1\n",
    "\n",
    "We can keep adding dimensions for however many words we want to add. It's easy to imagine vector space with two or three dimensions, but visualizing this mentally will rapidly become downright impossible as we add more and more words. Vocabularies for natural languages can easily reach tens of thousands of words.\n",
    "\n",
    "Keep in mind, it's not necessary to visualize how a high dimensional vector space looks. These relationships and formulae work over an arbitrary number of dimensions. Our methods for how to measure similarity will carry over, even if drawing a graph is no longer possible."
   ]
  },
  {
   "cell_type": "code",
   "execution_count": null,
   "id": "aea7808b",
   "metadata": {},
   "outputs": [],
   "source": [
    "# add two new dimensions to our corpus\n",
    "corpus = np.hstack((corpus, np.zeros((4,2))))\n",
    "print(corpus)"
   ]
  },
  {
   "cell_type": "code",
   "execution_count": null,
   "id": "8f632b3a",
   "metadata": {},
   "outputs": [],
   "source": [
    "E = np.array([[0,2,1,1]])\n",
    "F = np.array([[2,2,1,1]])\n",
    "\n",
    "#add document E to our corpus\n",
    "corpus = np.vstack((corpus, E))\n",
    "print(corpus)"
   ]
  },
  {
   "cell_type": "markdown",
   "id": "5573c558",
   "metadata": {},
   "source": [
    "What do you think the most similar document is to document F?"
   ]
  },
  {
   "cell_type": "code",
   "execution_count": null,
   "id": "ef9ddc74",
   "metadata": {},
   "outputs": [],
   "source": [
    "cs(corpus, F)"
   ]
  },
  {
   "cell_type": "markdown",
   "id": "49cde6ad",
   "metadata": {},
   "source": [
    "This new document seems most similar to the documents B,C and D.\n",
    "\n",
    "This principle of using vector space will hold up over an arbitrary number of dimensions, and therefore over a vocabulary of arbitrary size.\n",
    "\n",
    "This is the essence of vector space modeling: documents are embedded as vectors in very high dimensional space.\n",
    "\n",
    "How we define these dimensions and the methods for feature extraction may change and become more complex, but the essential idea remains the same.\n",
    "\n",
    "Next, we will discuss TF-IDF, which balances the above \"bag of words\" approach against the fact that some words are more or less interesting: *whale* conveys more useful information than *the*, for example."
   ]
  }
 ],
 "metadata": {},
 "nbformat": 4,
 "nbformat_minor": 5
}
